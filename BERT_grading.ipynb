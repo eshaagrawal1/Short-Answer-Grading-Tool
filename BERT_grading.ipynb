{
  "nbformat": 4,
  "nbformat_minor": 0,
  "metadata": {
    "colab": {
      "provenance": []
    },
    "kernelspec": {
      "name": "python3",
      "display_name": "Python 3"
    },
    "language_info": {
      "name": "python"
    }
  },
  "cells": [
    {
      "cell_type": "code",
      "execution_count": null,
      "metadata": {
        "colab": {
          "base_uri": "https://localhost:8080/",
          "height": 1000
        },
        "id": "Ni14hHzYSAf-",
        "outputId": "da7bda66-09a0-4f27-a652-e74f0656c36a"
      },
      "outputs": [
        {
          "output_type": "display_data",
          "data": {
            "text/plain": [
              "<IPython.core.display.HTML object>"
            ],
            "text/html": [
              "\n",
              "     <input type=\"file\" id=\"files-44edf872-046a-4a86-b105-7afa954d3236\" name=\"files[]\" multiple disabled\n",
              "        style=\"border:none\" />\n",
              "     <output id=\"result-44edf872-046a-4a86-b105-7afa954d3236\">\n",
              "      Upload widget is only available when the cell has been executed in the\n",
              "      current browser session. Please rerun this cell to enable.\n",
              "      </output>\n",
              "      <script>// Copyright 2017 Google LLC\n",
              "//\n",
              "// Licensed under the Apache License, Version 2.0 (the \"License\");\n",
              "// you may not use this file except in compliance with the License.\n",
              "// You may obtain a copy of the License at\n",
              "//\n",
              "//      http://www.apache.org/licenses/LICENSE-2.0\n",
              "//\n",
              "// Unless required by applicable law or agreed to in writing, software\n",
              "// distributed under the License is distributed on an \"AS IS\" BASIS,\n",
              "// WITHOUT WARRANTIES OR CONDITIONS OF ANY KIND, either express or implied.\n",
              "// See the License for the specific language governing permissions and\n",
              "// limitations under the License.\n",
              "\n",
              "/**\n",
              " * @fileoverview Helpers for google.colab Python module.\n",
              " */\n",
              "(function(scope) {\n",
              "function span(text, styleAttributes = {}) {\n",
              "  const element = document.createElement('span');\n",
              "  element.textContent = text;\n",
              "  for (const key of Object.keys(styleAttributes)) {\n",
              "    element.style[key] = styleAttributes[key];\n",
              "  }\n",
              "  return element;\n",
              "}\n",
              "\n",
              "// Max number of bytes which will be uploaded at a time.\n",
              "const MAX_PAYLOAD_SIZE = 100 * 1024;\n",
              "\n",
              "function _uploadFiles(inputId, outputId) {\n",
              "  const steps = uploadFilesStep(inputId, outputId);\n",
              "  const outputElement = document.getElementById(outputId);\n",
              "  // Cache steps on the outputElement to make it available for the next call\n",
              "  // to uploadFilesContinue from Python.\n",
              "  outputElement.steps = steps;\n",
              "\n",
              "  return _uploadFilesContinue(outputId);\n",
              "}\n",
              "\n",
              "// This is roughly an async generator (not supported in the browser yet),\n",
              "// where there are multiple asynchronous steps and the Python side is going\n",
              "// to poll for completion of each step.\n",
              "// This uses a Promise to block the python side on completion of each step,\n",
              "// then passes the result of the previous step as the input to the next step.\n",
              "function _uploadFilesContinue(outputId) {\n",
              "  const outputElement = document.getElementById(outputId);\n",
              "  const steps = outputElement.steps;\n",
              "\n",
              "  const next = steps.next(outputElement.lastPromiseValue);\n",
              "  return Promise.resolve(next.value.promise).then((value) => {\n",
              "    // Cache the last promise value to make it available to the next\n",
              "    // step of the generator.\n",
              "    outputElement.lastPromiseValue = value;\n",
              "    return next.value.response;\n",
              "  });\n",
              "}\n",
              "\n",
              "/**\n",
              " * Generator function which is called between each async step of the upload\n",
              " * process.\n",
              " * @param {string} inputId Element ID of the input file picker element.\n",
              " * @param {string} outputId Element ID of the output display.\n",
              " * @return {!Iterable<!Object>} Iterable of next steps.\n",
              " */\n",
              "function* uploadFilesStep(inputId, outputId) {\n",
              "  const inputElement = document.getElementById(inputId);\n",
              "  inputElement.disabled = false;\n",
              "\n",
              "  const outputElement = document.getElementById(outputId);\n",
              "  outputElement.innerHTML = '';\n",
              "\n",
              "  const pickedPromise = new Promise((resolve) => {\n",
              "    inputElement.addEventListener('change', (e) => {\n",
              "      resolve(e.target.files);\n",
              "    });\n",
              "  });\n",
              "\n",
              "  const cancel = document.createElement('button');\n",
              "  inputElement.parentElement.appendChild(cancel);\n",
              "  cancel.textContent = 'Cancel upload';\n",
              "  const cancelPromise = new Promise((resolve) => {\n",
              "    cancel.onclick = () => {\n",
              "      resolve(null);\n",
              "    };\n",
              "  });\n",
              "\n",
              "  // Wait for the user to pick the files.\n",
              "  const files = yield {\n",
              "    promise: Promise.race([pickedPromise, cancelPromise]),\n",
              "    response: {\n",
              "      action: 'starting',\n",
              "    }\n",
              "  };\n",
              "\n",
              "  cancel.remove();\n",
              "\n",
              "  // Disable the input element since further picks are not allowed.\n",
              "  inputElement.disabled = true;\n",
              "\n",
              "  if (!files) {\n",
              "    return {\n",
              "      response: {\n",
              "        action: 'complete',\n",
              "      }\n",
              "    };\n",
              "  }\n",
              "\n",
              "  for (const file of files) {\n",
              "    const li = document.createElement('li');\n",
              "    li.append(span(file.name, {fontWeight: 'bold'}));\n",
              "    li.append(span(\n",
              "        `(${file.type || 'n/a'}) - ${file.size} bytes, ` +\n",
              "        `last modified: ${\n",
              "            file.lastModifiedDate ? file.lastModifiedDate.toLocaleDateString() :\n",
              "                                    'n/a'} - `));\n",
              "    const percent = span('0% done');\n",
              "    li.appendChild(percent);\n",
              "\n",
              "    outputElement.appendChild(li);\n",
              "\n",
              "    const fileDataPromise = new Promise((resolve) => {\n",
              "      const reader = new FileReader();\n",
              "      reader.onload = (e) => {\n",
              "        resolve(e.target.result);\n",
              "      };\n",
              "      reader.readAsArrayBuffer(file);\n",
              "    });\n",
              "    // Wait for the data to be ready.\n",
              "    let fileData = yield {\n",
              "      promise: fileDataPromise,\n",
              "      response: {\n",
              "        action: 'continue',\n",
              "      }\n",
              "    };\n",
              "\n",
              "    // Use a chunked sending to avoid message size limits. See b/62115660.\n",
              "    let position = 0;\n",
              "    do {\n",
              "      const length = Math.min(fileData.byteLength - position, MAX_PAYLOAD_SIZE);\n",
              "      const chunk = new Uint8Array(fileData, position, length);\n",
              "      position += length;\n",
              "\n",
              "      const base64 = btoa(String.fromCharCode.apply(null, chunk));\n",
              "      yield {\n",
              "        response: {\n",
              "          action: 'append',\n",
              "          file: file.name,\n",
              "          data: base64,\n",
              "        },\n",
              "      };\n",
              "\n",
              "      let percentDone = fileData.byteLength === 0 ?\n",
              "          100 :\n",
              "          Math.round((position / fileData.byteLength) * 100);\n",
              "      percent.textContent = `${percentDone}% done`;\n",
              "\n",
              "    } while (position < fileData.byteLength);\n",
              "  }\n",
              "\n",
              "  // All done.\n",
              "  yield {\n",
              "    response: {\n",
              "      action: 'complete',\n",
              "    }\n",
              "  };\n",
              "}\n",
              "\n",
              "scope.google = scope.google || {};\n",
              "scope.google.colab = scope.google.colab || {};\n",
              "scope.google.colab._files = {\n",
              "  _uploadFiles,\n",
              "  _uploadFilesContinue,\n",
              "};\n",
              "})(self);\n",
              "</script> "
            ]
          },
          "metadata": {}
        },
        {
          "output_type": "stream",
          "name": "stdout",
          "text": [
            "Saving Dataset2.csv to Dataset2.csv\n"
          ]
        },
        {
          "output_type": "execute_result",
          "data": {
            "text/plain": [
              "{'Dataset2.csv': b',id,module,questionText,referenceAnswer,id2,studentAnswer,id3,accuracy,similarity_score,score\\r\\n0,EM_45b,EM,You used several methods to separate and identify the substances in mock rocks. How did you separate the salt from the water?,\"The water was evaporated, leaving the salt.\",EM_45b-a1,By letting it sit in a dish for a day.,EM.45b.110.1,incorrect,0.619929732,3\\r\\n1,EM_45b,EM,You used several methods to separate and identify the substances in mock rocks. How did you separate the salt from the water?,\"The water was evaporated, leaving the salt.\",EM_45b-a1,Let the water evaporate and the salt is left behind.,EM.45b.113.1,correct,0.979740887,5\\r\\n2,EM_45b,EM,You used several methods to separate and identify the substances in mock rocks. How did you separate the salt from the water?,\"The water was evaporated, leaving the salt.\",EM_45b-a1,The water evaporated and left salt crystals.,EM.45b.114.1,correct,0.956945715,5\\r\\n3,EM_45b,EM,You used several methods to separate and identify the substances in mock rocks. How did you separate the salt from the water?,\"The water was evaporated, leaving the salt.\",EM_45b-a1,I saw a pinkish grayish color that was blocking the water.,EM.45b.261.1,incorrect,0.584814267,2\\r\\n4,EM_45b,EM,You used several methods to separate and identify the substances in mock rocks. How did you separate the salt from the water?,\"The water was evaporated, leaving the salt.\",EM_45b-a1,You have to slowly tip the vial for only the water to go.,EM.45b.383.1,incorrect,0.736747199,3\\r\\n5,EM_45b,EM,You used several methods to separate and identify the substances in mock rocks. How did you separate the salt from the water?,\"The water was evaporated, leaving the salt.\",EM_45b-a1,\"By pouring the water and salt into the thing, and letting the water evaporate.\",EM.45b.384.1,correct,0.937855061,5\\r\\n6,EM_45b,EM,You used several methods to separate and identify the substances in mock rocks. How did you separate the salt from the water?,\"The water was evaporated, leaving the salt.\",EM_45b-a1,By slowly pouring it in a tray.,EM.45b.385.1,incorrect,0.587965338,2\\r\\n7,EM_45b,EM,You used several methods to separate and identify the substances in mock rocks. How did you separate the salt from the water?,\"The water was evaporated, leaving the salt.\",EM_45b-a1,The water evaporated so there was only salt left.,EM.45b.395.1,correct,0.999999988,5\\r\\n8,EM_45b,EM,You used several methods to separate and identify the substances in mock rocks. How did you separate the salt from the water?,\"The water was evaporated, leaving the salt.\",EM_45b-a1,We put the water with the salt in it and put it outside for the water to evaporate.,EM.45b.402.1,correct,0.958807262,5\\r\\n9,EM_45b,EM,You used several methods to separate and identify the substances in mock rocks. How did you separate the salt from the water?,\"The water was evaporated, leaving the salt.\",EM_45b-a1,I separated the salt from the water because the salt are on the rocks that are on the bottom and the water is on the top.,EM.45b.416.1,incorrect,0.887447766,4\\r\\n10,EM_45b,EM,You used several methods to separate and identify the substances in mock rocks. How did you separate the salt from the water?,\"The water was evaporated, leaving the salt.\",EM_45b-a1,Because you can see salt in water.,EM.45b.418.1,incorrect,0.899716313,4\\r\\n11,EM_45b,EM,You used several methods to separate and identify the substances in mock rocks. How did you separate the salt from the water?,\"The water was evaporated, leaving the salt.\",EM_45b-a1,I let the water evaporate.,EM.45b.420.1,correct,0.91910924,5\\r\\n12,EM_45b,EM,You used several methods to separate and identify the substances in mock rocks. How did you separate the salt from the water?,\"The water was evaporated, leaving the salt.\",EM_45b-a1,The water dried up and left the salt.,EM.45b.421.1,correct,0.940578511,5\\r\\n13,EM_45b,EM,You used several methods to separate and identify the substances in mock rocks. How did you separate the salt from the water?,\"The water was evaporated, leaving the salt.\",EM_45b-a1,We let the water evaporate.,EM.45b.431.1,correct,0.91910924,5\\r\\n14,EM_45b,EM,You used several methods to separate and identify the substances in mock rocks. How did you separate the salt from the water?,\"The water was evaporated, leaving the salt.\",EM_45b-a1,The water dried up.,EM.45b.435.1,correct,0.851762333,4\\r\\n15,EM_45b,EM,You used several methods to separate and identify the substances in mock rocks. How did you separate the salt from the water?,\"The water was evaporated, leaving the salt.\",EM_45b-a1,You just get water and the smashed mock rock and put the smashed rock and water together.,EM.45b.438.1,incorrect,0.671324695,3\\r\\n16,EM_45b,EM,You used several methods to separate and identify the substances in mock rocks. How did you separate the salt from the water?,\"The water was evaporated, leaving the salt.\",EM_45b-a1,\"You put the water, a little bit, in a cup and leave it overnight.\",EM.45b.444.1,incorrect,0.793592442,3\\r\\n17,EM_45b,EM,You used several methods to separate and identify the substances in mock rocks. How did you separate the salt from the water?,\"The water was evaporated, leaving the salt.\",EM_45b-a1,We evaporated the salt from the water because the water evaporated and separated.,EM.45b.454.1,correct,0.959865816,5\\r\\n18,EM_45b,EM,You used several methods to separate and identify the substances in mock rocks. How did you separate the salt from the water?,\"The water was evaporated, leaving the salt.\",EM_45b-a1,We put the water and salt in the Petri dish. The water evaporated and the salt became crystals.,EM.45b.460.1,correct,0.904608934,5\\r\\n19,EM_45b,EM,You used several methods to separate and identify the substances in mock rocks. How did you separate the salt from the water?,\"The water was evaporated, leaving the salt.\",EM_45b-a1,We poured the salt into a Petri dish and poured the water out.,EM.45b.472.1,incorrect,0.75058201,3\\r\\n20,EM_45b,EM,You used several methods to separate and identify the substances in mock rocks. How did you separate the salt from the water?,\"The water was evaporated, leaving the salt.\",EM_45b-a1,By the Petri dish.,EM.45b.474.1,incorrect,0.396487062,1\\r\\n21,EM_45b,EM,You used several methods to separate and identify the substances in mock rocks. How did you separate the salt from the water?,\"The water was evaporated, leaving the salt.\",EM_45b-a1,By putting water in a Petri dish and letting the water evaporate.,EM.45b.476.1,correct,0.886251463,4\\r\\n22,EM_45b,EM,You used several methods to separate and identify the substances in mock rocks. How did you separate the salt from the water?,\"The water was evaporated, leaving the salt.\",EM_45b-a1,Poured the top of the vial out.,EM.45b.477.1,incorrect,0.420411715,2\\r\\n23,EM_45b,EM,You used several methods to separate and identify the substances in mock rocks. How did you separate the salt from the water?,\"The water was evaporated, leaving the salt.\",EM_45b-a1,The salt dissolved and the water evaporated and the salt went to the bottom.,EM.45b.491.1,correct,0.963560203,5\\r\\n24,EM_45b,EM,You used several methods to separate and identify the substances in mock rocks. How did you separate the salt from the water?,\"The water was evaporated, leaving the salt.\",EM_45b-a1,We put it in a evaporation dish and the water evaporated.,EM.45b.497.1,correct,0.874560942,4\\r\\n25,EM_45b,EM,You used several methods to separate and identify the substances in mock rocks. How did you separate the salt from the water?,\"The water was evaporated, leaving the salt.\",EM_45b-a1,I put it on the evaporating dish.,EM.45b.502.1,correct,0.737616876,3\\r\\n26,EM_45b,EM,You used several methods to separate and identify the substances in mock rocks. How did you separate the salt from the water?,\"The water was evaporated, leaving the salt.\",EM_45b-a1,By pouring the water into the salt.,EM.45b.531.1,incorrect,0.854380844,4\\r\\n27,EM_45b,EM,You used several methods to separate and identify the substances in mock rocks. How did you separate the salt from the water?,\"The water was evaporated, leaving the salt.\",EM_45b-a1,We poured the water out of the bottle.,EM.45b.562.1,incorrect,0.723897967,3\\r\\n28,EM_45b,EM,You used several methods to separate and identify the substances in mock rocks. How did you separate the salt from the water?,\"The water was evaporated, leaving the salt.\",EM_45b-a1,Letting the water evaporate.,EM.45b.574.1,correct,0.91910924,5\\r\\n29,EM_45b,EM,You used several methods to separate and identify the substances in mock rocks. How did you separate the salt from the water?,\"The water was evaporated, leaving the salt.\",EM_45b-a1,Put it on a dish and then the water gets in the air and the salt stays.,EM.45b.576.1,correct,0.863313859,4\\r\\n30,EM_45b,EM,You used several methods to separate and identify the substances in mock rocks. How did you separate the salt from the water?,\"The water was evaporated, leaving the salt.\",EM_45b-a1,I do not know.,EM.45b.578.1,incorrect,0.384467818,1\\r\\n31,EM_45b,EM,You used several methods to separate and identify the substances in mock rocks. How did you separate the salt from the water?,\"The water was evaporated, leaving the salt.\",EM_45b-a1,The salt separated with the water because the salt was heavier but the water was not even heavy.,EM.45b.591.1,incorrect,0.868177969,4\\r\\n32,EM_45b,EM,You used several methods to separate and identify the substances in mock rocks. How did you separate the salt from the water?,\"The water was evaporated, leaving the salt.\",EM_45b-a1,We put the water in a clear cup and let it sit and the water evaporated and the salt stayed.,EM.45b.599.1,correct,0.929052752,5\\r\\n33,EM_45b,EM,You used several methods to separate and identify the substances in mock rocks. How did you separate the salt from the water?,\"The water was evaporated, leaving the salt.\",EM_45b-a1,I put some water in a dish and let the water evaporate so the salt would stay.,EM.45b.605.1,correct,0.952813279,5\\r\\n34,EM_45b,EM,You used several methods to separate and identify the substances in mock rocks. How did you separate the salt from the water?,\"The water was evaporated, leaving the salt.\",EM_45b-a1,Evaporate.,EM.45b.626.1,incorrect,0.702832606,3\\r\\n35,EM_45b,EM,You used several methods to separate and identify the substances in mock rocks. How did you separate the salt from the water?,\"The water was evaporated, leaving the salt.\",EM_45b-a1,The crystals were salt.,EM.45b.645.1,incorrect,0.701256684,3\\r\\n36,EM_45c,EM,You used several methods to separate and identify the substances in mock rocks. How did you know the crystals were salt?,The crystals were square with Xs on the surface.,EM_45c-a1,We used magnifying glasses and some sort of guide thing that told us what different kinds of salt looks like.,EM.45c.103.1,incorrect,0.499032563,2\\r\\n37,EM_45c,EM,You used several methods to separate and identify the substances in mock rocks. How did you know the crystals were salt?,The crystals were square with Xs on the surface.,EM_45c-a1,You take a look through the magnifying glass.,EM.45c.108.1,incorrect,0.520090962,2\\r\\n38,EM_45c,EM,You used several methods to separate and identify the substances in mock rocks. How did you know the crystals were salt?,The crystals were square with Xs on the surface.,EM_45c-a1,Because of the paper we looked at.,EM.45c.123.1,incorrect,0.37054189,1\\r\\n39,EM_45c,EM,You used several methods to separate and identify the substances in mock rocks. How did you know the crystals were salt?,The crystals were square with Xs on the surface.,EM_45c-a1,We looked at a piece of paper and one of the pictures looked like the crystals.,EM.45c.259.1,incorrect,0.558421142,2\\r\\n40,EM_45c,EM,You used several methods to separate and identify the substances in mock rocks. How did you know the crystals were salt?,The crystals were square with Xs on the surface.,EM_45c-a1,They will not shine.,EM.45c.260.1,incorrect,0.320336646,1\\r\\n41,EM_45c,EM,You used several methods to separate and identify the substances in mock rocks. How did you know the crystals were salt?,The crystals were square with Xs on the surface.,EM_45c-a1,They were square like salt.,EM.45c.386.1,correct,0.67772586,3\\r\\n42,EM_45c,EM,You used several methods to separate and identify the substances in mock rocks. How did you know the crystals were salt?,The crystals were square with Xs on the surface.,EM_45c-a1,We knew the crystals were salt because the crystal identification chart showed us that the different kinds of salt were crystals.,EM.45c.393.1,incorrect,0.709934925,3\\r\\n43,EM_45c,EM,You used several methods to separate and identify the substances in mock rocks. How did you know the crystals were salt?,The crystals were square with Xs on the surface.,EM_45c-a1,It said so on a paper.,EM.45c.395.1,incorrect,0.311227101,1\\r\\n44,EM_45c,EM,You used several methods to separate and identify the substances in mock rocks. How did you know the crystals were salt?,The crystals were square with Xs on the surface.,EM_45c-a1,Because it was at it because we had a chart that could tell us that.,EM.45c.400.1,incorrect,0.298815013,1\\r\\n45,EM_45c,EM,You used several methods to separate and identify the substances in mock rocks. How did you know the crystals were salt?,The crystals were square with Xs on the surface.,EM_45c-a1,They looked like salt.,EM.45c.402.1,incorrect,0.455740359,2\\r\\n46,EM_45c,EM,You used several methods to separate and identify the substances in mock rocks. How did you know the crystals were salt?,The crystals were square with Xs on the surface.,EM_45c-a1,We got a sheet with different kinds of crystals. So I looked for the same picture like the crystal and it said Kosher salt.,EM.45c.417.1,correct,0.626309994,3\\r\\n47,EM_45c,EM,You used several methods to separate and identify the substances in mock rocks. How did you know the crystals were salt?,The crystals were square with Xs on the surface.,EM_45c-a1,The teacher told us.,EM.45c.436.1,incorrect,0.134690224,0\\r\\n48,EM_45c,EM,You used several methods to separate and identify the substances in mock rocks. How did you know the crystals were salt?,The crystals were square with Xs on the surface.,EM_45c-a1,Because salt is made up of little crystals.,EM.45c.440.1,incorrect,0.686777519,3\\r\\n49,EM_45c,EM,You used several methods to separate and identify the substances in mock rocks. How did you know the crystals were salt?,The crystals were square with Xs on the surface.,EM_45c-a1,Because salt look like little pieces of a crystal.,EM.45c.441.1,incorrect,0.628812717,3\\r\\n50,EM_45c,EM,You used several methods to separate and identify the substances in mock rocks. How did you know the crystals were salt?,The crystals were square with Xs on the surface.,EM_45c-a1,I knew because they were shaped like kosher salt.,EM.45c.443.1,correct,0.480385861,2\\r\\n51,EM_45c,EM,You used several methods to separate and identify the substances in mock rocks. How did you know the crystals were salt?,The crystals were square with Xs on the surface.,EM_45c-a1,I knew the crystals were salt by the movie we watched.,EM.45c.456.1,incorrect,0.540338985,2\\r\\n52,EM_45c,EM,You used several methods to separate and identify the substances in mock rocks. How did you know the crystals were salt?,The crystals were square with Xs on the surface.,EM_45c-a1,Because flour does not turn into crystals.,EM.45c.458.1,incorrect,0.625774442,3\\r\\n53,EM_45c,EM,You used several methods to separate and identify the substances in mock rocks. How did you know the crystals were salt?,The crystals were square with Xs on the surface.,EM_45c-a1,Because salt is a crystal.,EM.45c.477.1,incorrect,0.69692902,3\\r\\n54,EM_45c,EM,You used several methods to separate and identify the substances in mock rocks. How did you know the crystals were salt?,The crystals were square with Xs on the surface.,EM_45c-a1,\"Because it has a X in the middle, and salt was in it.\",EM.45c.490.1,incorrect,0.586620039,2\\r\\n55,EM_45c,EM,You used several methods to separate and identify the substances in mock rocks. How did you know the crystals were salt?,The crystals were square with Xs on the surface.,EM_45c-a1,The crystals are kosher salt and kosher salt is salt!,EM.45c.491.1,incorrect,0.475131646,2\\r\\n56,EM_45c,EM,You used several methods to separate and identify the substances in mock rocks. How did you know the crystals were salt?,The crystals were square with Xs on the surface.,EM_45c-a1,By looking at the crystal identification sheet.,EM.45c.494.1,incorrect,0.679284773,3\\r\\n57,EM_45c,EM,You used several methods to separate and identify the substances in mock rocks. How did you know the crystals were salt?,The crystals were square with Xs on the surface.,EM_45c-a1,Because we measured them.,EM.45c.498.1,incorrect,0.395119916,1\\r\\n58,EM_45c,EM,You used several methods to separate and identify the substances in mock rocks. How did you know the crystals were salt?,The crystals were square with Xs on the surface.,EM_45c-a1,Because it was so shiny.,EM.45c.532.1,incorrect,0.450735692,2\\r\\n59,EM_45c,EM,You used several methods to separate and identify the substances in mock rocks. How did you know the crystals were salt?,The crystals were square with Xs on the surface.,EM_45c-a1,They were powdery.,EM.45c.534.1,incorrect,0.285909364,1\\r\\n60,EM_45c,EM,You used several methods to separate and identify the substances in mock rocks. How did you know the crystals were salt?,The crystals were square with Xs on the surface.,EM_45c-a1,Because there were little shining things inside and I knew it was salt.,EM.45c.536.1,incorrect,0.480768707,2\\r\\n61,EM_45c,EM,You used several methods to separate and identify the substances in mock rocks. How did you know the crystals were salt?,The crystals were square with Xs on the surface.,EM_45c-a1,Because we learned it because it was white that is how we knew.,EM.45c.537.1,incorrect,0.360280183,1\\r\\n62,EM_45c,EM,You used several methods to separate and identify the substances in mock rocks. How did you know the crystals were salt?,The crystals were square with Xs on the surface.,EM_45c-a1,I would know that the crystals were salt is the way how it looks.,EM.45c.540.1,incorrect,0.585704981,2\\r\\n63,EM_45c,EM,You used several methods to separate and identify the substances in mock rocks. How did you know the crystals were salt?,The crystals were square with Xs on the surface.,EM_45c-a1,We poured the water we left it alone for 2 days and they dry up.,EM.45c.562.1,incorrect,0.441652857,2\\r\\n64,EM_45c,EM,You used several methods to separate and identify the substances in mock rocks. How did you know the crystals were salt?,The crystals were square with Xs on the surface.,EM_45c-a1,After the water dried we noticed it was Kosher salt.,EM.45c.564.1,incorrect,0.459462099,2\\r\\n65,EM_45c,EM,You used several methods to separate and identify the substances in mock rocks. How did you know the crystals were salt?,The crystals were square with Xs on the surface.,EM_45c-a1,By breaking the rock.,EM.45c.569.1,incorrect,0.39644063,1\\r\\n66,EM_45c,EM,You used several methods to separate and identify the substances in mock rocks. How did you know the crystals were salt?,The crystals were square with Xs on the surface.,EM_45c-a1,Because it tastes like salt.,EM.45c.591.1,incorrect,0.400036013,2\\r\\n67,EM_45c,EM,You used several methods to separate and identify the substances in mock rocks. How did you know the crystals were salt?,The crystals were square with Xs on the surface.,EM_45c-a1,Because crystals are a kind of salt.,EM.45c.592.1,incorrect,0.682163549,3\\r\\n68,EM_45c,EM,You used several methods to separate and identify the substances in mock rocks. How did you know the crystals were salt?,The crystals were square with Xs on the surface.,EM_45c-a1,I looked at them really closely and they looked like crystals and diamonds.,EM.45c.606.1,correct,0.59733899,2\\r\\n69,EM_45c,EM,You used several methods to separate and identify the substances in mock rocks. How did you know the crystals were salt?,The crystals were square with Xs on the surface.,EM_45c-a1,Because we looked in the magnifying glass.,EM.45c.611.1,incorrect,0.557617809,2\\r\\n70,EM_45c,EM,You used several methods to separate and identify the substances in mock rocks. How did you know the crystals were salt?,The crystals were square with Xs on the surface.,EM_45c-a1,I knew the crystals were salt because of the patterns and shapes.,EM.45c.614.1,correct,0.742047387,3\\r\\n71,EM_45c,EM,You used several methods to separate and identify the substances in mock rocks. How did you know the crystals were salt?,The crystals were square with Xs on the surface.,EM_45c-a1,I looked at the chart.,EM.45c.647.1,incorrect,0.36857402,1\\r\\n72,EM_16b,EM,\"Ms. Teridann, a geologist, made a chart showing the scratch-test data for 3 minerals (Mineral X, Mineral Y, and Mineral Z). She wrote \"\"yes\"\" if the tool scratched the mineral and wrote \"\"no\"\" if it did not scratch it. Topaz is a mineral that cannot be scratched by a fingernail, a penny, or a paperclip. How hard is topaz compared to minerals X, Y, and Z? Explain how you know.\",Topaz would be the hardest of the 4 minerals because none of the tools could scratch topaz and at least one tool could scratch each of the other minerals.,EM_16b-a1,Topaz is harder because it would be all no on the chart.,EM.16b.183.1,incorrect,0.726862091,3\\r\\n73,EM_16b,EM,\"Ms. Teridann, a geologist, made a chart showing the scratch-test data for 3 minerals (Mineral X, Mineral Y, and Mineral Z). She wrote \"\"yes\"\" if the tool scratched the mineral and wrote \"\"no\"\" if it did not scratch it. Topaz is a mineral that cannot be scratched by a fingernail, a penny, or a paperclip. How hard is topaz compared to minerals X, Y, and Z? Explain how you know.\",Topaz would be the hardest of the 4 minerals because none of the tools could scratch topaz and at least one tool could scratch each of the other minerals.,EM_16b-a1,Topaz is harder. Because topaz is the hardest birthstone.,EM.16b.187.1,incorrect,0.667585207,3\\r\\n74,EM_16b,EM,\"Ms. Teridann, a geologist, made a chart showing the scratch-test data for 3 minerals (Mineral X, Mineral Y, and Mineral Z). She wrote \"\"yes\"\" if the tool scratched the mineral and wrote \"\"no\"\" if it did not scratch it. Topaz is a mineral that cannot be scratched by a fingernail, a penny, or a paperclip. How hard is topaz compared to minerals X, Y, and Z? Explain how you know.\",Topaz would be the hardest of the 4 minerals because none of the tools could scratch topaz and at least one tool could scratch each of the other minerals.,EM_16b-a1,\"Topaz is hard because you cannot scratch it with penny, fingernail or a paperclip.\",EM.16b.189.1,correct,0.727175806,3\\r\\n75,EM_16b,EM,\"Ms. Teridann, a geologist, made a chart showing the scratch-test data for 3 minerals (Mineral X, Mineral Y, and Mineral Z). She wrote \"\"yes\"\" if the tool scratched the mineral and wrote \"\"no\"\" if it did not scratch it. Topaz is a mineral that cannot be scratched by a fingernail, a penny, or a paperclip. How hard is topaz compared to minerals X, Y, and Z? Explain how you know.\",Topaz would be the hardest of the 4 minerals because none of the tools could scratch topaz and at least one tool could scratch each of the other minerals.,EM_16b-a1,M to Z is harder than mineral X and Y.,EM.16b.279.1,incorrect,0.53569085,2\\r\\n76,EM_16b,EM,\"Ms. Teridann, a geologist, made a chart showing the scratch-test data for 3 minerals (Mineral X, Mineral Y, and Mineral Z). She wrote \"\"yes\"\" if the tool scratched the mineral and wrote \"\"no\"\" if it did not scratch it. Topaz is a mineral that cannot be scratched by a fingernail, a penny, or a paperclip. How hard is topaz compared to minerals X, Y, and Z? Explain how you know.\",Topaz would be the hardest of the 4 minerals because none of the tools could scratch topaz and at least one tool could scratch each of the other minerals.,EM_16b-a1,It is harder than X Y Z because we read about it this morning.,EM.16b.284.1,incorrect,0.384078006,1\\r\\n77,EM_16b,EM,\"Ms. Teridann, a geologist, made a chart showing the scratch-test data for 3 minerals (Mineral X, Mineral Y, and Mineral Z). She wrote \"\"yes\"\" if the tool scratched the mineral and wrote \"\"no\"\" if it did not scratch it. Topaz is a mineral that cannot be scratched by a fingernail, a penny, or a paperclip. How hard is topaz compared to minerals X, Y, and Z? Explain how you know.\",Topaz would be the hardest of the 4 minerals because none of the tools could scratch topaz and at least one tool could scratch each of the other minerals.,EM_16b-a1,It is harder than them.,EM.16b.286.1,incorrect,0.528925083,2\\r\\n78,EM_16b,EM,\"Ms. Teridann, a geologist, made a chart showing the scratch-test data for 3 minerals (Mineral X, Mineral Y, and Mineral Z). She wrote \"\"yes\"\" if the tool scratched the mineral and wrote \"\"no\"\" if it did not scratch it. Topaz is a mineral that cannot be scratched by a fingernail, a penny, or a paperclip. How hard is topaz compared to minerals X, Y, and Z? Explain how you know.\",Topaz would be the hardest of the 4 minerals because none of the tools could scratch topaz and at least one tool could scratch each of the other minerals.,EM_16b-a1,\"It is harder than minerals X, Y, and Z because it cannot be scratched by either one.\",EM.16b.288.1,correct,0.645966764,3\\r\\n79,EM_16b,EM,\"Ms. Teridann, a geologist, made a chart showing the scratch-test data for 3 minerals (Mineral X, Mineral Y, and Mineral Z). She wrote \"\"yes\"\" if the tool scratched the mineral and wrote \"\"no\"\" if it did not scratch it. Topaz is a mineral that cannot be scratched by a fingernail, a penny, or a paperclip. How hard is topaz compared to minerals X, Y, and Z? Explain how you know.\",Topaz would be the hardest of the 4 minerals because none of the tools could scratch topaz and at least one tool could scratch each of the other minerals.,EM_16b-a1,A topaz is compared to Z because it cannot be scratched with 2 thirds things. Y is all the opposite of topaz. X cannot be scratched with one third of a topaz cannot be scratched.,EM.16b.321.1,incorrect,0.757484997,3\\r\\n80,EM_16b,EM,\"Ms. Teridann, a geologist, made a chart showing the scratch-test data for 3 minerals (Mineral X, Mineral Y, and Mineral Z). She wrote \"\"yes\"\" if the tool scratched the mineral and wrote \"\"no\"\" if it did not scratch it. Topaz is a mineral that cannot be scratched by a fingernail, a penny, or a paperclip. How hard is topaz compared to minerals X, Y, and Z? Explain how you know.\",Topaz would be the hardest of the 4 minerals because none of the tools could scratch topaz and at least one tool could scratch each of the other minerals.,EM_16b-a1,The Topaz is the first hardest mineral out of the 3 on the chart.,EM.16b.322.1,incorrect,0.847262311,4\\r\\n81,EM_16b,EM,\"Ms. Teridann, a geologist, made a chart showing the scratch-test data for 3 minerals (Mineral X, Mineral Y, and Mineral Z). She wrote \"\"yes\"\" if the tool scratched the mineral and wrote \"\"no\"\" if it did not scratch it. Topaz is a mineral that cannot be scratched by a fingernail, a penny, or a paperclip. How hard is topaz compared to minerals X, Y, and Z? Explain how you know.\",Topaz would be the hardest of the 4 minerals because none of the tools could scratch topaz and at least one tool could scratch each of the other minerals.,EM_16b-a1,\"Topaz is harder than all of them. It is just barely harder than Z, way harder than Y, and pretty harder than X.\",EM.16b.387.1,incorrect,0.61574097,3\\r\\n82,EM_16b,EM,\"Ms. Teridann, a geologist, made a chart showing the scratch-test data for 3 minerals (Mineral X, Mineral Y, and Mineral Z). She wrote \"\"yes\"\" if the tool scratched the mineral and wrote \"\"no\"\" if it did not scratch it. Topaz is a mineral that cannot be scratched by a fingernail, a penny, or a paperclip. How hard is topaz compared to minerals X, Y, and Z? Explain how you know.\",Topaz would be the hardest of the 4 minerals because none of the tools could scratch topaz and at least one tool could scratch each of the other minerals.,EM_16b-a1,\"Topaz is harder than X, Y, and Z because Topaz cannot be scratched by a fingernail, a penny, or a paperclip so it is the hardest.\",EM.16b.388.1,correct,0.747463515,3\\r\\n83,EM_16b,EM,\"Ms. Teridann, a geologist, made a chart showing the scratch-test data for 3 minerals (Mineral X, Mineral Y, and Mineral Z). She wrote \"\"yes\"\" if the tool scratched the mineral and wrote \"\"no\"\" if it did not scratch it. Topaz is a mineral that cannot be scratched by a fingernail, a penny, or a paperclip. How hard is topaz compared to minerals X, Y, and Z? Explain how you know.\",Topaz would be the hardest of the 4 minerals because none of the tools could scratch topaz and at least one tool could scratch each of the other minerals.,EM_16b-a1,\"Tied with mineral Y because they are both yes, yes, and yes.\",EM.16b.398.1,incorrect,0.526017137,2\\r\\n84,EM_16b,EM,\"Ms. Teridann, a geologist, made a chart showing the scratch-test data for 3 minerals (Mineral X, Mineral Y, and Mineral Z). She wrote \"\"yes\"\" if the tool scratched the mineral and wrote \"\"no\"\" if it did not scratch it. Topaz is a mineral that cannot be scratched by a fingernail, a penny, or a paperclip. How hard is topaz compared to minerals X, Y, and Z? Explain how you know.\",Topaz would be the hardest of the 4 minerals because none of the tools could scratch topaz and at least one tool could scratch each of the other minerals.,EM_16b-a1,\"Topaz would be all no\\'s compared the minerals X, Y, and Z because topaz is one of the scratch free minerals.\",EM.16b.403.1,incorrect,0.804130132,4\\r\\n85,EM_16b,EM,\"Ms. Teridann, a geologist, made a chart showing the scratch-test data for 3 minerals (Mineral X, Mineral Y, and Mineral Z). She wrote \"\"yes\"\" if the tool scratched the mineral and wrote \"\"no\"\" if it did not scratch it. Topaz is a mineral that cannot be scratched by a fingernail, a penny, or a paperclip. How hard is topaz compared to minerals X, Y, and Z? Explain how you know.\",Topaz would be the hardest of the 4 minerals because none of the tools could scratch topaz and at least one tool could scratch each of the other minerals.,EM_16b-a1,\"Topaz is harder than minerals X, Y, and Z because Topaz cannot be scratched by a fingernail, penny or a paperclip. So it is harder.\",EM.16b.419.1,correct,0.818838516,4\\r\\n86,EM_16b,EM,\"Ms. Teridann, a geologist, made a chart showing the scratch-test data for 3 minerals (Mineral X, Mineral Y, and Mineral Z). She wrote \"\"yes\"\" if the tool scratched the mineral and wrote \"\"no\"\" if it did not scratch it. Topaz is a mineral that cannot be scratched by a fingernail, a penny, or a paperclip. How hard is topaz compared to minerals X, Y, and Z? Explain how you know.\",Topaz would be the hardest of the 4 minerals because none of the tools could scratch topaz and at least one tool could scratch each of the other minerals.,EM_16b-a1,\"It is a soft rock Z, I think it is the same as Y because they can both be scratched by everything. It is little bit hard to X.\",EM.16b.431.1,incorrect,0.598907087,2\\r\\n87,EM_16b,EM,\"Ms. Teridann, a geologist, made a chart showing the scratch-test data for 3 minerals (Mineral X, Mineral Y, and Mineral Z). She wrote \"\"yes\"\" if the tool scratched the mineral and wrote \"\"no\"\" if it did not scratch it. Topaz is a mineral that cannot be scratched by a fingernail, a penny, or a paperclip. How hard is topaz compared to minerals X, Y, and Z? Explain how you know.\",Topaz would be the hardest of the 4 minerals because none of the tools could scratch topaz and at least one tool could scratch each of the other minerals.,EM_16b-a1,\"Topaz is harder than X, Y, and Z because it cannot be scratched by a fingernail, a laser, or a paperclip.\",EM.16b.493.1,correct,0.692096741,3\\r\\n88,EM_16b,EM,\"Ms. Teridann, a geologist, made a chart showing the scratch-test data for 3 minerals (Mineral X, Mineral Y, and Mineral Z). She wrote \"\"yes\"\" if the tool scratched the mineral and wrote \"\"no\"\" if it did not scratch it. Topaz is a mineral that cannot be scratched by a fingernail, a penny, or a paperclip. How hard is topaz compared to minerals X, Y, and Z? Explain how you know.\",Topaz would be the hardest of the 4 minerals because none of the tools could scratch topaz and at least one tool could scratch each of the other minerals.,EM_16b-a1,Topaz is the hardest out of all minerals because it did not get scratched by any tool.,EM.16b.494.1,correct,0.986210447,5\\r\\n89,EM_16b,EM,\"Ms. Teridann, a geologist, made a chart showing the scratch-test data for 3 minerals (Mineral X, Mineral Y, and Mineral Z). She wrote \"\"yes\"\" if the tool scratched the mineral and wrote \"\"no\"\" if it did not scratch it. Topaz is a mineral that cannot be scratched by a fingernail, a penny, or a paperclip. How hard is topaz compared to minerals X, Y, and Z? Explain how you know.\",Topaz would be the hardest of the 4 minerals because none of the tools could scratch topaz and at least one tool could scratch each of the other minerals.,EM_16b-a1,Like steel if you rub them and if it does not scratch.,EM.16b.495.1,incorrect,0.696886878,3\\r\\n90,EM_16b,EM,\"Ms. Teridann, a geologist, made a chart showing the scratch-test data for 3 minerals (Mineral X, Mineral Y, and Mineral Z). She wrote \"\"yes\"\" if the tool scratched the mineral and wrote \"\"no\"\" if it did not scratch it. Topaz is a mineral that cannot be scratched by a fingernail, a penny, or a paperclip. How hard is topaz compared to minerals X, Y, and Z? Explain how you know.\",Topaz would be the hardest of the 4 minerals because none of the tools could scratch topaz and at least one tool could scratch each of the other minerals.,EM_16b-a1,It is harder than all of the other minerals because it cannot get scratched by none of the scratching materials and all the other minerals can get scratched at least one time.,EM.16b.497.1,correct,0.834510889,4\\r\\n91,EM_16b,EM,\"Ms. Teridann, a geologist, made a chart showing the scratch-test data for 3 minerals (Mineral X, Mineral Y, and Mineral Z). She wrote \"\"yes\"\" if the tool scratched the mineral and wrote \"\"no\"\" if it did not scratch it. Topaz is a mineral that cannot be scratched by a fingernail, a penny, or a paperclip. How hard is topaz compared to minerals X, Y, and Z? Explain how you know.\",Topaz would be the hardest of the 4 minerals because none of the tools could scratch topaz and at least one tool could scratch each of the other minerals.,EM_16b-a1,\"It is harder than X, Y, Z. I know it is harder than X, Y, and Z because nothing can scratch it.\",EM.16b.508.1,correct,0.437687494,2\\r\\n92,EM_16b,EM,\"Ms. Teridann, a geologist, made a chart showing the scratch-test data for 3 minerals (Mineral X, Mineral Y, and Mineral Z). She wrote \"\"yes\"\" if the tool scratched the mineral and wrote \"\"no\"\" if it did not scratch it. Topaz is a mineral that cannot be scratched by a fingernail, a penny, or a paperclip. How hard is topaz compared to minerals X, Y, and Z? Explain how you know.\",Topaz would be the hardest of the 4 minerals because none of the tools could scratch topaz and at least one tool could scratch each of the other minerals.,EM_16b-a1,\"Minerals X has 2 of them in a paperclip and penny. And the Y, Z and the minerals Y is the hardest in it.\",EM.16b.521.1,incorrect,0.624583219,3\\r\\n93,EM_16b,EM,\"Ms. Teridann, a geologist, made a chart showing the scratch-test data for 3 minerals (Mineral X, Mineral Y, and Mineral Z). She wrote \"\"yes\"\" if the tool scratched the mineral and wrote \"\"no\"\" if it did not scratch it. Topaz is a mineral that cannot be scratched by a fingernail, a penny, or a paperclip. How hard is topaz compared to minerals X, Y, and Z? Explain how you know.\",Topaz would be the hardest of the 4 minerals because none of the tools could scratch topaz and at least one tool could scratch each of the other minerals.,EM_16b-a1,It is the hardest because it cannot be scratched by any of them and the others can be scratched with at least one of the minerals.,EM.16b.527.1,correct,0.821149328,4\\r\\n94,EM_16b,EM,\"Ms. Teridann, a geologist, made a chart showing the scratch-test data for 3 minerals (Mineral X, Mineral Y, and Mineral Z). She wrote \"\"yes\"\" if the tool scratched the mineral and wrote \"\"no\"\" if it did not scratch it. Topaz is a mineral that cannot be scratched by a fingernail, a penny, or a paperclip. How hard is topaz compared to minerals X, Y, and Z? Explain how you know.\",Topaz would be the hardest of the 4 minerals because none of the tools could scratch topaz and at least one tool could scratch each of the other minerals.,EM_16b-a1,Mineral Z can scratch topaz because mineral Z cannot be scratched by a penny or a fingernail but it can get scratched by a paperclip.,EM.16b.528.1,incorrect,0.831408477,4\\r\\n95,EM_16b,EM,\"Ms. Teridann, a geologist, made a chart showing the scratch-test data for 3 minerals (Mineral X, Mineral Y, and Mineral Z). She wrote \"\"yes\"\" if the tool scratched the mineral and wrote \"\"no\"\" if it did not scratch it. Topaz is a mineral that cannot be scratched by a fingernail, a penny, or a paperclip. How hard is topaz compared to minerals X, Y, and Z? Explain how you know.\",Topaz would be the hardest of the 4 minerals because none of the tools could scratch topaz and at least one tool could scratch each of the other minerals.,EM_16b-a1,\"It is so strong that minerals X, Y, Z cannot break it.\",EM.16b.532.1,incorrect,0.553564498,2\\r\\n96,EM_16b,EM,\"Ms. Teridann, a geologist, made a chart showing the scratch-test data for 3 minerals (Mineral X, Mineral Y, and Mineral Z). She wrote \"\"yes\"\" if the tool scratched the mineral and wrote \"\"no\"\" if it did not scratch it. Topaz is a mineral that cannot be scratched by a fingernail, a penny, or a paperclip. How hard is topaz compared to minerals X, Y, and Z? Explain how you know.\",Topaz would be the hardest of the 4 minerals because none of the tools could scratch topaz and at least one tool could scratch each of the other minerals.,EM_16b-a1,I know because when you break a rock that is when you know it is hard or not hard.,EM.16b.538.1,incorrect,0.539602769,2\\r\\n97,EM_16b,EM,\"Ms. Teridann, a geologist, made a chart showing the scratch-test data for 3 minerals (Mineral X, Mineral Y, and Mineral Z). She wrote \"\"yes\"\" if the tool scratched the mineral and wrote \"\"no\"\" if it did not scratch it. Topaz is a mineral that cannot be scratched by a fingernail, a penny, or a paperclip. How hard is topaz compared to minerals X, Y, and Z? Explain how you know.\",Topaz would be the hardest of the 4 minerals because none of the tools could scratch topaz and at least one tool could scratch each of the other minerals.,EM_16b-a1,\"How it is compared to X, Y, and Z is that the finger and the penny cannot scratch mineral X and Z.\",EM.16b.540.1,incorrect,0.572322894,2\\r\\n98,EM_16b,EM,\"Ms. Teridann, a geologist, made a chart showing the scratch-test data for 3 minerals (Mineral X, Mineral Y, and Mineral Z). She wrote \"\"yes\"\" if the tool scratched the mineral and wrote \"\"no\"\" if it did not scratch it. Topaz is a mineral that cannot be scratched by a fingernail, a penny, or a paperclip. How hard is topaz compared to minerals X, Y, and Z? Explain how you know.\",Topaz would be the hardest of the 4 minerals because none of the tools could scratch topaz and at least one tool could scratch each of the other minerals.,EM_16b-a1,I know it is Z because it has one yes and 2 no\\'s.,EM.16b.573.1,incorrect,0.379463586,1\\r\\n'}"
            ]
          },
          "metadata": {},
          "execution_count": 1
        }
      ],
      "source": [
        "from google.colab import files\n",
        "files.upload()"
      ]
    },
    {
      "cell_type": "code",
      "source": [
        "import numpy as np\n",
        "import pandas as pd\n",
        "import re\n",
        "import gc\n",
        "import os\n",
        "#print(os.listdir(\"../input\"))\n",
        "import fileinput\n",
        "import string\n",
        "import tensorflow as tf\n",
        "import zipfile\n",
        "import datetime\n",
        "import sys\n",
        "from tqdm  import tqdm\n",
        "#tqdm.pandas()\n",
        "from nltk.tokenize import wordpunct_tokenize\n",
        "from nltk.corpus import stopwords\n",
        "from nltk.stem.snowball import SnowballStemmer\n",
        "from sklearn.feature_extraction.text import CountVectorizer\n",
        "from sklearn.preprocessing import LabelEncoder\n",
        "from sklearn.metrics import accuracy_score\n",
        "from sklearn.metrics import f1_score, roc_auc_score\n",
        "\n",
        "from keras.preprocessing.text import Tokenizer\n",
        "# from keras.preprocessing.sequence import pad_sequences\n",
        "from keras.models import Sequential\n",
        "from keras.layers import Embedding\n",
        "from sklearn.metrics import classification_report\n",
        "from keras.utils import pad_sequences"
      ],
      "metadata": {
        "colab": {
          "base_uri": "https://localhost:8080/",
          "height": 540
        },
        "id": "LNi4B8frSaRo",
        "outputId": "06dda72c-3c05-4701-db92-b50021d64433"
      },
      "execution_count": null,
      "outputs": [
        {
          "output_type": "error",
          "ename": "ImportError",
          "evalue": "ignored",
          "traceback": [
            "\u001b[0;31m---------------------------------------------------------------------------\u001b[0m",
            "\u001b[0;31mImportError\u001b[0m                               Traceback (most recent call last)",
            "\u001b[0;32m<ipython-input-2-bab93bae80dd>\u001b[0m in \u001b[0;36m<module>\u001b[0;34m\u001b[0m\n\u001b[1;32m     21\u001b[0m \u001b[0;32mfrom\u001b[0m \u001b[0msklearn\u001b[0m\u001b[0;34m.\u001b[0m\u001b[0mmetrics\u001b[0m \u001b[0;32mimport\u001b[0m \u001b[0mf1_score\u001b[0m\u001b[0;34m,\u001b[0m \u001b[0mroc_auc_score\u001b[0m\u001b[0;34m\u001b[0m\u001b[0;34m\u001b[0m\u001b[0m\n\u001b[1;32m     22\u001b[0m \u001b[0;34m\u001b[0m\u001b[0m\n\u001b[0;32m---> 23\u001b[0;31m \u001b[0;32mfrom\u001b[0m \u001b[0mkeras\u001b[0m\u001b[0;34m.\u001b[0m\u001b[0mpreprocessing\u001b[0m\u001b[0;34m.\u001b[0m\u001b[0mtext\u001b[0m \u001b[0;32mimport\u001b[0m \u001b[0mTokenizer\u001b[0m\u001b[0;34m\u001b[0m\u001b[0;34m\u001b[0m\u001b[0m\n\u001b[0m\u001b[1;32m     24\u001b[0m \u001b[0;31m# from keras.preprocessing.sequence import pad_sequences\u001b[0m\u001b[0;34m\u001b[0m\u001b[0;34m\u001b[0m\u001b[0;34m\u001b[0m\u001b[0m\n\u001b[1;32m     25\u001b[0m \u001b[0;32mfrom\u001b[0m \u001b[0mkeras\u001b[0m\u001b[0;34m.\u001b[0m\u001b[0mmodels\u001b[0m \u001b[0;32mimport\u001b[0m \u001b[0mSequential\u001b[0m\u001b[0;34m\u001b[0m\u001b[0;34m\u001b[0m\u001b[0m\n",
            "\u001b[0;32m/usr/local/lib/python3.7/dist-packages/keras/__init__.py\u001b[0m in \u001b[0;36m<module>\u001b[0;34m\u001b[0m\n\u001b[1;32m     22\u001b[0m \u001b[0;32mfrom\u001b[0m \u001b[0mkeras\u001b[0m \u001b[0;32mimport\u001b[0m \u001b[0mdistribute\u001b[0m\u001b[0;34m\u001b[0m\u001b[0;34m\u001b[0m\u001b[0m\n\u001b[1;32m     23\u001b[0m \u001b[0;34m\u001b[0m\u001b[0m\n\u001b[0;32m---> 24\u001b[0;31m \u001b[0;32mfrom\u001b[0m \u001b[0mkeras\u001b[0m \u001b[0;32mimport\u001b[0m \u001b[0mmodels\u001b[0m\u001b[0;34m\u001b[0m\u001b[0;34m\u001b[0m\u001b[0m\n\u001b[0m\u001b[1;32m     25\u001b[0m \u001b[0;34m\u001b[0m\u001b[0m\n\u001b[1;32m     26\u001b[0m \u001b[0;32mfrom\u001b[0m \u001b[0mkeras\u001b[0m\u001b[0;34m.\u001b[0m\u001b[0mengine\u001b[0m\u001b[0;34m.\u001b[0m\u001b[0minput_layer\u001b[0m \u001b[0;32mimport\u001b[0m \u001b[0mInput\u001b[0m\u001b[0;34m\u001b[0m\u001b[0;34m\u001b[0m\u001b[0m\n",
            "\u001b[0;32m/usr/local/lib/python3.7/dist-packages/keras/models/__init__.py\u001b[0m in \u001b[0;36m<module>\u001b[0;34m\u001b[0m\n\u001b[1;32m     16\u001b[0m \u001b[0;31m# pylint: disable=g-bad-import-order\u001b[0m\u001b[0;34m\u001b[0m\u001b[0;34m\u001b[0m\u001b[0;34m\u001b[0m\u001b[0m\n\u001b[1;32m     17\u001b[0m \u001b[0;34m\u001b[0m\u001b[0m\n\u001b[0;32m---> 18\u001b[0;31m \u001b[0;32mfrom\u001b[0m \u001b[0mkeras\u001b[0m\u001b[0;34m.\u001b[0m\u001b[0mengine\u001b[0m\u001b[0;34m.\u001b[0m\u001b[0mfunctional\u001b[0m \u001b[0;32mimport\u001b[0m \u001b[0mFunctional\u001b[0m\u001b[0;34m\u001b[0m\u001b[0;34m\u001b[0m\u001b[0m\n\u001b[0m\u001b[1;32m     19\u001b[0m \u001b[0;32mfrom\u001b[0m \u001b[0mkeras\u001b[0m\u001b[0;34m.\u001b[0m\u001b[0mengine\u001b[0m\u001b[0;34m.\u001b[0m\u001b[0msequential\u001b[0m \u001b[0;32mimport\u001b[0m \u001b[0mSequential\u001b[0m\u001b[0;34m\u001b[0m\u001b[0;34m\u001b[0m\u001b[0m\n\u001b[1;32m     20\u001b[0m \u001b[0;32mfrom\u001b[0m \u001b[0mkeras\u001b[0m\u001b[0;34m.\u001b[0m\u001b[0mengine\u001b[0m\u001b[0;34m.\u001b[0m\u001b[0mtraining\u001b[0m \u001b[0;32mimport\u001b[0m \u001b[0mModel\u001b[0m\u001b[0;34m\u001b[0m\u001b[0;34m\u001b[0m\u001b[0m\n",
            "\u001b[0;32m/usr/local/lib/python3.7/dist-packages/keras/engine/functional.py\u001b[0m in \u001b[0;36m<module>\u001b[0;34m\u001b[0m\n\u001b[1;32m     21\u001b[0m \u001b[0;32mimport\u001b[0m \u001b[0mitertools\u001b[0m\u001b[0;34m\u001b[0m\u001b[0;34m\u001b[0m\u001b[0m\n\u001b[1;32m     22\u001b[0m \u001b[0;32mimport\u001b[0m \u001b[0mwarnings\u001b[0m\u001b[0;34m\u001b[0m\u001b[0;34m\u001b[0m\u001b[0m\n\u001b[0;32m---> 23\u001b[0;31m \u001b[0;32mfrom\u001b[0m \u001b[0mkeras\u001b[0m \u001b[0;32mimport\u001b[0m \u001b[0mbackend\u001b[0m\u001b[0;34m\u001b[0m\u001b[0;34m\u001b[0m\u001b[0m\n\u001b[0m\u001b[1;32m     24\u001b[0m \u001b[0;32mfrom\u001b[0m \u001b[0mkeras\u001b[0m\u001b[0;34m.\u001b[0m\u001b[0mdtensor\u001b[0m \u001b[0;32mimport\u001b[0m \u001b[0mlayout_map\u001b[0m \u001b[0;32mas\u001b[0m \u001b[0mlayout_map_lib\u001b[0m\u001b[0;34m\u001b[0m\u001b[0;34m\u001b[0m\u001b[0m\n\u001b[1;32m     25\u001b[0m \u001b[0;32mfrom\u001b[0m \u001b[0mkeras\u001b[0m\u001b[0;34m.\u001b[0m\u001b[0mengine\u001b[0m \u001b[0;32mimport\u001b[0m \u001b[0mbase_layer\u001b[0m\u001b[0;34m\u001b[0m\u001b[0;34m\u001b[0m\u001b[0m\n",
            "\u001b[0;32m/usr/local/lib/python3.7/dist-packages/keras/backend.py\u001b[0m in \u001b[0;36m<module>\u001b[0;34m\u001b[0m\n\u001b[1;32m     37\u001b[0m \u001b[0;32mfrom\u001b[0m \u001b[0mtensorflow\u001b[0m\u001b[0;34m.\u001b[0m\u001b[0mcore\u001b[0m\u001b[0;34m.\u001b[0m\u001b[0mprotobuf\u001b[0m \u001b[0;32mimport\u001b[0m \u001b[0mconfig_pb2\u001b[0m\u001b[0;34m\u001b[0m\u001b[0;34m\u001b[0m\u001b[0m\n\u001b[1;32m     38\u001b[0m \u001b[0;32mfrom\u001b[0m \u001b[0mtensorflow\u001b[0m\u001b[0;34m.\u001b[0m\u001b[0mpython\u001b[0m\u001b[0;34m.\u001b[0m\u001b[0meager\u001b[0m \u001b[0;32mimport\u001b[0m \u001b[0mcontext\u001b[0m\u001b[0;34m\u001b[0m\u001b[0;34m\u001b[0m\u001b[0m\n\u001b[0;32m---> 39\u001b[0;31m \u001b[0;32mfrom\u001b[0m \u001b[0mtensorflow\u001b[0m\u001b[0;34m.\u001b[0m\u001b[0mpython\u001b[0m\u001b[0;34m.\u001b[0m\u001b[0meager\u001b[0m\u001b[0;34m.\u001b[0m\u001b[0mcontext\u001b[0m \u001b[0;32mimport\u001b[0m \u001b[0mget_config\u001b[0m\u001b[0;34m\u001b[0m\u001b[0;34m\u001b[0m\u001b[0m\n\u001b[0m\u001b[1;32m     40\u001b[0m \u001b[0;32mfrom\u001b[0m \u001b[0mtensorflow\u001b[0m\u001b[0;34m.\u001b[0m\u001b[0mpython\u001b[0m\u001b[0;34m.\u001b[0m\u001b[0mframework\u001b[0m \u001b[0;32mimport\u001b[0m \u001b[0mconfig\u001b[0m\u001b[0;34m\u001b[0m\u001b[0;34m\u001b[0m\u001b[0m\n\u001b[1;32m     41\u001b[0m \u001b[0;32mfrom\u001b[0m \u001b[0mkeras\u001b[0m \u001b[0;32mimport\u001b[0m \u001b[0mbackend_config\u001b[0m\u001b[0;34m\u001b[0m\u001b[0;34m\u001b[0m\u001b[0m\n",
            "\u001b[0;31mImportError\u001b[0m: cannot import name 'get_config' from 'tensorflow.python.eager.context' (/usr/local/lib/python3.7/dist-packages/tensorflow_core/python/eager/context.py)",
            "",
            "\u001b[0;31m---------------------------------------------------------------------------\u001b[0;32m\nNOTE: If your import is failing due to a missing package, you can\nmanually install dependencies using either !pip or !apt.\n\nTo view examples of installing some common dependencies, click the\n\"Open Examples\" button below.\n\u001b[0;31m---------------------------------------------------------------------------\u001b[0m\n"
          ],
          "errorDetails": {
            "actions": [
              {
                "action": "open_url",
                "actionText": "Open Examples",
                "url": "/notebooks/snippets/importing_libraries.ipynb"
              }
            ]
          }
        }
      ]
    },
    {
      "cell_type": "code",
      "source": [
        "!wget https://storage.googleapis.com/bert_models/2018_10_18/uncased_L-12_H-768_A-12.zip\n",
        "!wget https://raw.githubusercontent.com/google-research/bert/master/modeling.py\n",
        "!wget https://raw.githubusercontent.com/google-research/bert/master/optimization.py\n",
        "!wget https://raw.githubusercontent.com/google-research/bert/master/run_classifier.py\n",
        "!wget https://raw.githubusercontent.com/google-research/bert/master/tokenization.py"
      ],
      "metadata": {
        "colab": {
          "base_uri": "https://localhost:8080/"
        },
        "id": "8uvgR7DLShLG",
        "outputId": "52b6933f-4d3e-4649-8240-c57168d819d3"
      },
      "execution_count": null,
      "outputs": [
        {
          "output_type": "stream",
          "name": "stdout",
          "text": [
            "--2022-11-27 13:56:34--  https://storage.googleapis.com/bert_models/2018_10_18/uncased_L-12_H-768_A-12.zip\n",
            "Resolving storage.googleapis.com (storage.googleapis.com)... 172.217.204.128, 172.217.203.128, 172.253.123.128, ...\n",
            "Connecting to storage.googleapis.com (storage.googleapis.com)|172.217.204.128|:443... connected.\n",
            "HTTP request sent, awaiting response... 200 OK\n",
            "Length: 407727028 (389M) [application/zip]\n",
            "Saving to: ‘uncased_L-12_H-768_A-12.zip.1’\n",
            "\n",
            "uncased_L-12_H-768_ 100%[===================>] 388.84M   221MB/s    in 1.8s    \n",
            "\n",
            "2022-11-27 13:56:36 (221 MB/s) - ‘uncased_L-12_H-768_A-12.zip.1’ saved [407727028/407727028]\n",
            "\n",
            "--2022-11-27 13:56:36--  https://raw.githubusercontent.com/google-research/bert/master/modeling.py\n",
            "Resolving raw.githubusercontent.com (raw.githubusercontent.com)... 185.199.108.133, 185.199.109.133, 185.199.110.133, ...\n",
            "Connecting to raw.githubusercontent.com (raw.githubusercontent.com)|185.199.108.133|:443... connected.\n",
            "HTTP request sent, awaiting response... 200 OK\n",
            "Length: 37922 (37K) [text/plain]\n",
            "Saving to: ‘modeling.py.1’\n",
            "\n",
            "modeling.py.1       100%[===================>]  37.03K  --.-KB/s    in 0.003s  \n",
            "\n",
            "2022-11-27 13:56:37 (11.1 MB/s) - ‘modeling.py.1’ saved [37922/37922]\n",
            "\n",
            "--2022-11-27 13:56:37--  https://raw.githubusercontent.com/google-research/bert/master/optimization.py\n",
            "Resolving raw.githubusercontent.com (raw.githubusercontent.com)... 185.199.109.133, 185.199.110.133, 185.199.111.133, ...\n",
            "Connecting to raw.githubusercontent.com (raw.githubusercontent.com)|185.199.109.133|:443... connected.\n",
            "HTTP request sent, awaiting response... 200 OK\n",
            "Length: 6258 (6.1K) [text/plain]\n",
            "Saving to: ‘optimization.py.1’\n",
            "\n",
            "optimization.py.1   100%[===================>]   6.11K  --.-KB/s    in 0s      \n",
            "\n",
            "2022-11-27 13:56:37 (64.2 MB/s) - ‘optimization.py.1’ saved [6258/6258]\n",
            "\n",
            "--2022-11-27 13:56:37--  https://raw.githubusercontent.com/google-research/bert/master/run_classifier.py\n",
            "Resolving raw.githubusercontent.com (raw.githubusercontent.com)... 185.199.108.133, 185.199.109.133, 185.199.110.133, ...\n",
            "Connecting to raw.githubusercontent.com (raw.githubusercontent.com)|185.199.108.133|:443... connected.\n",
            "HTTP request sent, awaiting response... 200 OK\n",
            "Length: 34783 (34K) [text/plain]\n",
            "Saving to: ‘run_classifier.py.1’\n",
            "\n",
            "run_classifier.py.1 100%[===================>]  33.97K  --.-KB/s    in 0.006s  \n",
            "\n",
            "2022-11-27 13:56:37 (5.94 MB/s) - ‘run_classifier.py.1’ saved [34783/34783]\n",
            "\n",
            "--2022-11-27 13:56:37--  https://raw.githubusercontent.com/google-research/bert/master/tokenization.py\n",
            "Resolving raw.githubusercontent.com (raw.githubusercontent.com)... 185.199.108.133, 185.199.109.133, 185.199.110.133, ...\n",
            "Connecting to raw.githubusercontent.com (raw.githubusercontent.com)|185.199.108.133|:443... connected.\n",
            "HTTP request sent, awaiting response... 200 OK\n",
            "Length: 12257 (12K) [text/plain]\n",
            "Saving to: ‘tokenization.py.1’\n",
            "\n",
            "tokenization.py.1   100%[===================>]  11.97K  --.-KB/s    in 0s      \n",
            "\n",
            "2022-11-27 13:56:37 (101 MB/s) - ‘tokenization.py.1’ saved [12257/12257]\n",
            "\n"
          ]
        }
      ]
    },
    {
      "cell_type": "code",
      "source": [
        "pip install tensorflow==1.15.0"
      ],
      "metadata": {
        "colab": {
          "base_uri": "https://localhost:8080/"
        },
        "id": "whd1heqxSlv0",
        "outputId": "b987bf07-f36a-4bcc-8f8e-69dbbf1fc546"
      },
      "execution_count": null,
      "outputs": [
        {
          "output_type": "stream",
          "name": "stdout",
          "text": [
            "Looking in indexes: https://pypi.org/simple, https://us-python.pkg.dev/colab-wheels/public/simple/\n",
            "Requirement already satisfied: tensorflow==1.15.0 in /usr/local/lib/python3.7/dist-packages (1.15.0)\n",
            "Requirement already satisfied: absl-py>=0.7.0 in /usr/local/lib/python3.7/dist-packages (from tensorflow==1.15.0) (1.3.0)\n",
            "Requirement already satisfied: astor>=0.6.0 in /usr/local/lib/python3.7/dist-packages (from tensorflow==1.15.0) (0.8.1)\n",
            "Requirement already satisfied: six>=1.10.0 in /usr/local/lib/python3.7/dist-packages (from tensorflow==1.15.0) (1.15.0)\n",
            "Requirement already satisfied: protobuf>=3.6.1 in /usr/local/lib/python3.7/dist-packages (from tensorflow==1.15.0) (3.19.6)\n",
            "Requirement already satisfied: tensorboard<1.16.0,>=1.15.0 in /usr/local/lib/python3.7/dist-packages (from tensorflow==1.15.0) (1.15.0)\n",
            "Requirement already satisfied: termcolor>=1.1.0 in /usr/local/lib/python3.7/dist-packages (from tensorflow==1.15.0) (2.1.0)\n",
            "Requirement already satisfied: wrapt>=1.11.1 in /usr/local/lib/python3.7/dist-packages (from tensorflow==1.15.0) (1.14.1)\n",
            "Requirement already satisfied: wheel>=0.26 in /usr/local/lib/python3.7/dist-packages (from tensorflow==1.15.0) (0.38.4)\n",
            "Requirement already satisfied: gast==0.2.2 in /usr/local/lib/python3.7/dist-packages (from tensorflow==1.15.0) (0.2.2)\n",
            "Requirement already satisfied: tensorflow-estimator==1.15.1 in /usr/local/lib/python3.7/dist-packages (from tensorflow==1.15.0) (1.15.1)\n",
            "Requirement already satisfied: opt-einsum>=2.3.2 in /usr/local/lib/python3.7/dist-packages (from tensorflow==1.15.0) (3.3.0)\n",
            "Requirement already satisfied: keras-preprocessing>=1.0.5 in /usr/local/lib/python3.7/dist-packages (from tensorflow==1.15.0) (1.1.2)\n",
            "Requirement already satisfied: numpy<2.0,>=1.16.0 in /usr/local/lib/python3.7/dist-packages (from tensorflow==1.15.0) (1.19.5)\n",
            "Requirement already satisfied: google-pasta>=0.1.6 in /usr/local/lib/python3.7/dist-packages (from tensorflow==1.15.0) (0.2.0)\n",
            "Requirement already satisfied: grpcio>=1.8.6 in /usr/local/lib/python3.7/dist-packages (from tensorflow==1.15.0) (1.50.0)\n",
            "Requirement already satisfied: keras-applications>=1.0.8 in /usr/local/lib/python3.7/dist-packages (from tensorflow==1.15.0) (1.0.8)\n",
            "Requirement already satisfied: h5py in /usr/local/lib/python3.7/dist-packages (from keras-applications>=1.0.8->tensorflow==1.15.0) (3.1.0)\n",
            "Requirement already satisfied: werkzeug>=0.11.15 in /usr/local/lib/python3.7/dist-packages (from tensorboard<1.16.0,>=1.15.0->tensorflow==1.15.0) (1.0.1)\n",
            "Requirement already satisfied: setuptools>=41.0.0 in /usr/local/lib/python3.7/dist-packages (from tensorboard<1.16.0,>=1.15.0->tensorflow==1.15.0) (57.4.0)\n",
            "Requirement already satisfied: markdown>=2.6.8 in /usr/local/lib/python3.7/dist-packages (from tensorboard<1.16.0,>=1.15.0->tensorflow==1.15.0) (3.4.1)\n",
            "Requirement already satisfied: importlib-metadata>=4.4 in /usr/local/lib/python3.7/dist-packages (from markdown>=2.6.8->tensorboard<1.16.0,>=1.15.0->tensorflow==1.15.0) (4.13.0)\n",
            "Requirement already satisfied: typing-extensions>=3.6.4 in /usr/local/lib/python3.7/dist-packages (from importlib-metadata>=4.4->markdown>=2.6.8->tensorboard<1.16.0,>=1.15.0->tensorflow==1.15.0) (4.1.1)\n",
            "Requirement already satisfied: zipp>=0.5 in /usr/local/lib/python3.7/dist-packages (from importlib-metadata>=4.4->markdown>=2.6.8->tensorboard<1.16.0,>=1.15.0->tensorflow==1.15.0) (3.10.0)\n",
            "Requirement already satisfied: cached-property in /usr/local/lib/python3.7/dist-packages (from h5py->keras-applications>=1.0.8->tensorflow==1.15.0) (1.5.2)\n"
          ]
        }
      ]
    },
    {
      "cell_type": "code",
      "source": [
        "import modeling\n",
        "import optimization\n",
        "import run_classifier\n",
        "import tokenization"
      ],
      "metadata": {
        "colab": {
          "base_uri": "https://localhost:8080/"
        },
        "id": "GRL2kw7CSl5h",
        "outputId": "375545b0-c392-49ce-df13-a8559e7fe50c"
      },
      "execution_count": null,
      "outputs": [
        {
          "output_type": "stream",
          "name": "stderr",
          "text": [
            "WARNING:tensorflow:From /content/optimization.py:87: The name tf.train.Optimizer is deprecated. Please use tf.compat.v1.train.Optimizer instead.\n",
            "\n"
          ]
        }
      ]
    },
    {
      "cell_type": "code",
      "source": [
        "import zipfile"
      ],
      "metadata": {
        "id": "jk4ViXc8TbS1"
      },
      "execution_count": null,
      "outputs": []
    },
    {
      "cell_type": "code",
      "source": [
        "folder = 'model_folder'\n",
        "with zipfile.ZipFile(\"uncased_L-12_H-768_A-12.zip\",\"r\") as zip_ref:\n",
        "    zip_ref.extractall(folder)"
      ],
      "metadata": {
        "id": "j8Y2NF0aTfl9"
      },
      "execution_count": null,
      "outputs": []
    },
    {
      "cell_type": "code",
      "source": [
        "import pandas as pd\n",
        "import numpy as np"
      ],
      "metadata": {
        "id": "WEuQsAThTi2v"
      },
      "execution_count": null,
      "outputs": []
    },
    {
      "cell_type": "code",
      "source": [
        "df=pd.read_csv(\"Dataset2.csv\")\n",
        "df.head()\n",
        "df=df[:100]"
      ],
      "metadata": {
        "id": "svjFB2bFTlBY"
      },
      "execution_count": null,
      "outputs": []
    },
    {
      "cell_type": "code",
      "source": [
        "df.tail()"
      ],
      "metadata": {
        "colab": {
          "base_uri": "https://localhost:8080/",
          "height": 354
        },
        "id": "huRcdIUvTnNL",
        "outputId": "1514cdee-9aad-4255-e8df-660fb78002a7"
      },
      "execution_count": null,
      "outputs": [
        {
          "output_type": "execute_result",
          "data": {
            "text/plain": [
              "    Unnamed: 0      id module  \\\n",
              "94          94  EM_16b     EM   \n",
              "95          95  EM_16b     EM   \n",
              "96          96  EM_16b     EM   \n",
              "97          97  EM_16b     EM   \n",
              "98          98  EM_16b     EM   \n",
              "\n",
              "                                         questionText  \\\n",
              "94  Ms. Teridann, a geologist, made a chart showin...   \n",
              "95  Ms. Teridann, a geologist, made a chart showin...   \n",
              "96  Ms. Teridann, a geologist, made a chart showin...   \n",
              "97  Ms. Teridann, a geologist, made a chart showin...   \n",
              "98  Ms. Teridann, a geologist, made a chart showin...   \n",
              "\n",
              "                                      referenceAnswer        id2  \\\n",
              "94  Topaz would be the hardest of the 4 minerals b...  EM_16b-a1   \n",
              "95  Topaz would be the hardest of the 4 minerals b...  EM_16b-a1   \n",
              "96  Topaz would be the hardest of the 4 minerals b...  EM_16b-a1   \n",
              "97  Topaz would be the hardest of the 4 minerals b...  EM_16b-a1   \n",
              "98  Topaz would be the hardest of the 4 minerals b...  EM_16b-a1   \n",
              "\n",
              "                                        studentAnswer           id3  \\\n",
              "94  Mineral Z can scratch topaz because mineral Z ...  EM.16b.528.1   \n",
              "95  It is so strong that minerals X, Y, Z cannot b...  EM.16b.532.1   \n",
              "96  I know because when you break a rock that is w...  EM.16b.538.1   \n",
              "97  How it is compared to X, Y, and Z is that the ...  EM.16b.540.1   \n",
              "98  I know it is Z because it has one yes and 2 no's.  EM.16b.573.1   \n",
              "\n",
              "     accuracy  similarity_score  score  \n",
              "94  incorrect          0.831408      4  \n",
              "95  incorrect          0.553564      2  \n",
              "96  incorrect          0.539603      2  \n",
              "97  incorrect          0.572323      2  \n",
              "98  incorrect          0.379464      1  "
            ],
            "text/html": [
              "\n",
              "  <div id=\"df-1661af2c-4569-4a95-9e41-29c22c995cd7\">\n",
              "    <div class=\"colab-df-container\">\n",
              "      <div>\n",
              "<style scoped>\n",
              "    .dataframe tbody tr th:only-of-type {\n",
              "        vertical-align: middle;\n",
              "    }\n",
              "\n",
              "    .dataframe tbody tr th {\n",
              "        vertical-align: top;\n",
              "    }\n",
              "\n",
              "    .dataframe thead th {\n",
              "        text-align: right;\n",
              "    }\n",
              "</style>\n",
              "<table border=\"1\" class=\"dataframe\">\n",
              "  <thead>\n",
              "    <tr style=\"text-align: right;\">\n",
              "      <th></th>\n",
              "      <th>Unnamed: 0</th>\n",
              "      <th>id</th>\n",
              "      <th>module</th>\n",
              "      <th>questionText</th>\n",
              "      <th>referenceAnswer</th>\n",
              "      <th>id2</th>\n",
              "      <th>studentAnswer</th>\n",
              "      <th>id3</th>\n",
              "      <th>accuracy</th>\n",
              "      <th>similarity_score</th>\n",
              "      <th>score</th>\n",
              "    </tr>\n",
              "  </thead>\n",
              "  <tbody>\n",
              "    <tr>\n",
              "      <th>94</th>\n",
              "      <td>94</td>\n",
              "      <td>EM_16b</td>\n",
              "      <td>EM</td>\n",
              "      <td>Ms. Teridann, a geologist, made a chart showin...</td>\n",
              "      <td>Topaz would be the hardest of the 4 minerals b...</td>\n",
              "      <td>EM_16b-a1</td>\n",
              "      <td>Mineral Z can scratch topaz because mineral Z ...</td>\n",
              "      <td>EM.16b.528.1</td>\n",
              "      <td>incorrect</td>\n",
              "      <td>0.831408</td>\n",
              "      <td>4</td>\n",
              "    </tr>\n",
              "    <tr>\n",
              "      <th>95</th>\n",
              "      <td>95</td>\n",
              "      <td>EM_16b</td>\n",
              "      <td>EM</td>\n",
              "      <td>Ms. Teridann, a geologist, made a chart showin...</td>\n",
              "      <td>Topaz would be the hardest of the 4 minerals b...</td>\n",
              "      <td>EM_16b-a1</td>\n",
              "      <td>It is so strong that minerals X, Y, Z cannot b...</td>\n",
              "      <td>EM.16b.532.1</td>\n",
              "      <td>incorrect</td>\n",
              "      <td>0.553564</td>\n",
              "      <td>2</td>\n",
              "    </tr>\n",
              "    <tr>\n",
              "      <th>96</th>\n",
              "      <td>96</td>\n",
              "      <td>EM_16b</td>\n",
              "      <td>EM</td>\n",
              "      <td>Ms. Teridann, a geologist, made a chart showin...</td>\n",
              "      <td>Topaz would be the hardest of the 4 minerals b...</td>\n",
              "      <td>EM_16b-a1</td>\n",
              "      <td>I know because when you break a rock that is w...</td>\n",
              "      <td>EM.16b.538.1</td>\n",
              "      <td>incorrect</td>\n",
              "      <td>0.539603</td>\n",
              "      <td>2</td>\n",
              "    </tr>\n",
              "    <tr>\n",
              "      <th>97</th>\n",
              "      <td>97</td>\n",
              "      <td>EM_16b</td>\n",
              "      <td>EM</td>\n",
              "      <td>Ms. Teridann, a geologist, made a chart showin...</td>\n",
              "      <td>Topaz would be the hardest of the 4 minerals b...</td>\n",
              "      <td>EM_16b-a1</td>\n",
              "      <td>How it is compared to X, Y, and Z is that the ...</td>\n",
              "      <td>EM.16b.540.1</td>\n",
              "      <td>incorrect</td>\n",
              "      <td>0.572323</td>\n",
              "      <td>2</td>\n",
              "    </tr>\n",
              "    <tr>\n",
              "      <th>98</th>\n",
              "      <td>98</td>\n",
              "      <td>EM_16b</td>\n",
              "      <td>EM</td>\n",
              "      <td>Ms. Teridann, a geologist, made a chart showin...</td>\n",
              "      <td>Topaz would be the hardest of the 4 minerals b...</td>\n",
              "      <td>EM_16b-a1</td>\n",
              "      <td>I know it is Z because it has one yes and 2 no's.</td>\n",
              "      <td>EM.16b.573.1</td>\n",
              "      <td>incorrect</td>\n",
              "      <td>0.379464</td>\n",
              "      <td>1</td>\n",
              "    </tr>\n",
              "  </tbody>\n",
              "</table>\n",
              "</div>\n",
              "      <button class=\"colab-df-convert\" onclick=\"convertToInteractive('df-1661af2c-4569-4a95-9e41-29c22c995cd7')\"\n",
              "              title=\"Convert this dataframe to an interactive table.\"\n",
              "              style=\"display:none;\">\n",
              "        \n",
              "  <svg xmlns=\"http://www.w3.org/2000/svg\" height=\"24px\"viewBox=\"0 0 24 24\"\n",
              "       width=\"24px\">\n",
              "    <path d=\"M0 0h24v24H0V0z\" fill=\"none\"/>\n",
              "    <path d=\"M18.56 5.44l.94 2.06.94-2.06 2.06-.94-2.06-.94-.94-2.06-.94 2.06-2.06.94zm-11 1L8.5 8.5l.94-2.06 2.06-.94-2.06-.94L8.5 2.5l-.94 2.06-2.06.94zm10 10l.94 2.06.94-2.06 2.06-.94-2.06-.94-.94-2.06-.94 2.06-2.06.94z\"/><path d=\"M17.41 7.96l-1.37-1.37c-.4-.4-.92-.59-1.43-.59-.52 0-1.04.2-1.43.59L10.3 9.45l-7.72 7.72c-.78.78-.78 2.05 0 2.83L4 21.41c.39.39.9.59 1.41.59.51 0 1.02-.2 1.41-.59l7.78-7.78 2.81-2.81c.8-.78.8-2.07 0-2.86zM5.41 20L4 18.59l7.72-7.72 1.47 1.35L5.41 20z\"/>\n",
              "  </svg>\n",
              "      </button>\n",
              "      \n",
              "  <style>\n",
              "    .colab-df-container {\n",
              "      display:flex;\n",
              "      flex-wrap:wrap;\n",
              "      gap: 12px;\n",
              "    }\n",
              "\n",
              "    .colab-df-convert {\n",
              "      background-color: #E8F0FE;\n",
              "      border: none;\n",
              "      border-radius: 50%;\n",
              "      cursor: pointer;\n",
              "      display: none;\n",
              "      fill: #1967D2;\n",
              "      height: 32px;\n",
              "      padding: 0 0 0 0;\n",
              "      width: 32px;\n",
              "    }\n",
              "\n",
              "    .colab-df-convert:hover {\n",
              "      background-color: #E2EBFA;\n",
              "      box-shadow: 0px 1px 2px rgba(60, 64, 67, 0.3), 0px 1px 3px 1px rgba(60, 64, 67, 0.15);\n",
              "      fill: #174EA6;\n",
              "    }\n",
              "\n",
              "    [theme=dark] .colab-df-convert {\n",
              "      background-color: #3B4455;\n",
              "      fill: #D2E3FC;\n",
              "    }\n",
              "\n",
              "    [theme=dark] .colab-df-convert:hover {\n",
              "      background-color: #434B5C;\n",
              "      box-shadow: 0px 1px 3px 1px rgba(0, 0, 0, 0.15);\n",
              "      filter: drop-shadow(0px 1px 2px rgba(0, 0, 0, 0.3));\n",
              "      fill: #FFFFFF;\n",
              "    }\n",
              "  </style>\n",
              "\n",
              "      <script>\n",
              "        const buttonEl =\n",
              "          document.querySelector('#df-1661af2c-4569-4a95-9e41-29c22c995cd7 button.colab-df-convert');\n",
              "        buttonEl.style.display =\n",
              "          google.colab.kernel.accessAllowed ? 'block' : 'none';\n",
              "\n",
              "        async function convertToInteractive(key) {\n",
              "          const element = document.querySelector('#df-1661af2c-4569-4a95-9e41-29c22c995cd7');\n",
              "          const dataTable =\n",
              "            await google.colab.kernel.invokeFunction('convertToInteractive',\n",
              "                                                     [key], {});\n",
              "          if (!dataTable) return;\n",
              "\n",
              "          const docLinkHtml = 'Like what you see? Visit the ' +\n",
              "            '<a target=\"_blank\" href=https://colab.research.google.com/notebooks/data_table.ipynb>data table notebook</a>'\n",
              "            + ' to learn more about interactive tables.';\n",
              "          element.innerHTML = '';\n",
              "          dataTable['output_type'] = 'display_data';\n",
              "          await google.colab.output.renderOutput(dataTable, element);\n",
              "          const docLink = document.createElement('div');\n",
              "          docLink.innerHTML = docLinkHtml;\n",
              "          element.appendChild(docLink);\n",
              "        }\n",
              "      </script>\n",
              "    </div>\n",
              "  </div>\n",
              "  "
            ]
          },
          "metadata": {},
          "execution_count": 11
        }
      ]
    },
    {
      "cell_type": "code",
      "source": [
        "BERT_MODEL = 'uncased_L-12_H-768_A-12'\n",
        "BERT_PRETRAINED_DIR = f'{folder}/uncased_L-12_H-768_A-12'\n",
        "OUTPUT_DIR = f'{folder}/outputs'\n",
        "print(f'>> Model output directory: {OUTPUT_DIR}')\n",
        "print(f'>> BERT pretrained directory: {BERT_PRETRAINED_DIR}')"
      ],
      "metadata": {
        "colab": {
          "base_uri": "https://localhost:8080/"
        },
        "id": "lkLlBtBgTpAc",
        "outputId": "cd33506e-c6d7-40b5-90d2-cd638fbf2713"
      },
      "execution_count": null,
      "outputs": [
        {
          "output_type": "stream",
          "name": "stdout",
          "text": [
            ">> Model output directory: model_folder/outputs\n",
            ">> BERT pretrained directory: model_folder/uncased_L-12_H-768_A-12\n"
          ]
        }
      ]
    },
    {
      "cell_type": "code",
      "source": [
        "sentences1 = df.questionText.values\n",
        "sentences2 = df.studentAnswer.values\n",
        "sentencesf=[]\n",
        "sentences = [sentence for sentence in sentences1]\n",
        "#sentences = [\"[CLS] \" + sentence + \" [SEP]\" for sentence in sentences1]\n",
        "for i in range(len(sentences)):\n",
        "  sent=sentences[i] +  \" [SEP] \"+ sentences2[i]\n",
        "  sentencesf.append(sent)\n",
        "sentencesf\n"
      ],
      "metadata": {
        "colab": {
          "base_uri": "https://localhost:8080/"
        },
        "id": "gF9xYPGHTsMu",
        "outputId": "be8a6ebb-4d10-49a6-a692-f4dd68409005"
      },
      "execution_count": null,
      "outputs": [
        {
          "output_type": "execute_result",
          "data": {
            "text/plain": [
              "['You used several methods to separate and identify the substances in mock rocks. How did you separate the salt from the water? [SEP] By letting it sit in a dish for a day.',\n",
              " 'You used several methods to separate and identify the substances in mock rocks. How did you separate the salt from the water? [SEP] Let the water evaporate and the salt is left behind.',\n",
              " 'You used several methods to separate and identify the substances in mock rocks. How did you separate the salt from the water? [SEP] The water evaporated and left salt crystals.',\n",
              " 'You used several methods to separate and identify the substances in mock rocks. How did you separate the salt from the water? [SEP] I saw a pinkish grayish color that was blocking the water.',\n",
              " 'You used several methods to separate and identify the substances in mock rocks. How did you separate the salt from the water? [SEP] You have to slowly tip the vial for only the water to go.',\n",
              " 'You used several methods to separate and identify the substances in mock rocks. How did you separate the salt from the water? [SEP] By pouring the water and salt into the thing, and letting the water evaporate.',\n",
              " 'You used several methods to separate and identify the substances in mock rocks. How did you separate the salt from the water? [SEP] By slowly pouring it in a tray.',\n",
              " 'You used several methods to separate and identify the substances in mock rocks. How did you separate the salt from the water? [SEP] The water evaporated so there was only salt left.',\n",
              " 'You used several methods to separate and identify the substances in mock rocks. How did you separate the salt from the water? [SEP] We put the water with the salt in it and put it outside for the water to evaporate.',\n",
              " 'You used several methods to separate and identify the substances in mock rocks. How did you separate the salt from the water? [SEP] I separated the salt from the water because the salt are on the rocks that are on the bottom and the water is on the top.',\n",
              " 'You used several methods to separate and identify the substances in mock rocks. How did you separate the salt from the water? [SEP] Because you can see salt in water.',\n",
              " 'You used several methods to separate and identify the substances in mock rocks. How did you separate the salt from the water? [SEP] I let the water evaporate.',\n",
              " 'You used several methods to separate and identify the substances in mock rocks. How did you separate the salt from the water? [SEP] The water dried up and left the salt.',\n",
              " 'You used several methods to separate and identify the substances in mock rocks. How did you separate the salt from the water? [SEP] We let the water evaporate.',\n",
              " 'You used several methods to separate and identify the substances in mock rocks. How did you separate the salt from the water? [SEP] The water dried up.',\n",
              " 'You used several methods to separate and identify the substances in mock rocks. How did you separate the salt from the water? [SEP] You just get water and the smashed mock rock and put the smashed rock and water together.',\n",
              " 'You used several methods to separate and identify the substances in mock rocks. How did you separate the salt from the water? [SEP] You put the water, a little bit, in a cup and leave it overnight.',\n",
              " 'You used several methods to separate and identify the substances in mock rocks. How did you separate the salt from the water? [SEP] We evaporated the salt from the water because the water evaporated and separated.',\n",
              " 'You used several methods to separate and identify the substances in mock rocks. How did you separate the salt from the water? [SEP] We put the water and salt in the Petri dish. The water evaporated and the salt became crystals.',\n",
              " 'You used several methods to separate and identify the substances in mock rocks. How did you separate the salt from the water? [SEP] We poured the salt into a Petri dish and poured the water out.',\n",
              " 'You used several methods to separate and identify the substances in mock rocks. How did you separate the salt from the water? [SEP] By the Petri dish.',\n",
              " 'You used several methods to separate and identify the substances in mock rocks. How did you separate the salt from the water? [SEP] By putting water in a Petri dish and letting the water evaporate.',\n",
              " 'You used several methods to separate and identify the substances in mock rocks. How did you separate the salt from the water? [SEP] Poured the top of the vial out.',\n",
              " 'You used several methods to separate and identify the substances in mock rocks. How did you separate the salt from the water? [SEP] The salt dissolved and the water evaporated and the salt went to the bottom.',\n",
              " 'You used several methods to separate and identify the substances in mock rocks. How did you separate the salt from the water? [SEP] We put it in a evaporation dish and the water evaporated.',\n",
              " 'You used several methods to separate and identify the substances in mock rocks. How did you separate the salt from the water? [SEP] I put it on the evaporating dish.',\n",
              " 'You used several methods to separate and identify the substances in mock rocks. How did you separate the salt from the water? [SEP] By pouring the water into the salt.',\n",
              " 'You used several methods to separate and identify the substances in mock rocks. How did you separate the salt from the water? [SEP] We poured the water out of the bottle.',\n",
              " 'You used several methods to separate and identify the substances in mock rocks. How did you separate the salt from the water? [SEP] Letting the water evaporate.',\n",
              " 'You used several methods to separate and identify the substances in mock rocks. How did you separate the salt from the water? [SEP] Put it on a dish and then the water gets in the air and the salt stays.',\n",
              " 'You used several methods to separate and identify the substances in mock rocks. How did you separate the salt from the water? [SEP] I do not know.',\n",
              " 'You used several methods to separate and identify the substances in mock rocks. How did you separate the salt from the water? [SEP] The salt separated with the water because the salt was heavier but the water was not even heavy.',\n",
              " 'You used several methods to separate and identify the substances in mock rocks. How did you separate the salt from the water? [SEP] We put the water in a clear cup and let it sit and the water evaporated and the salt stayed.',\n",
              " 'You used several methods to separate and identify the substances in mock rocks. How did you separate the salt from the water? [SEP] I put some water in a dish and let the water evaporate so the salt would stay.',\n",
              " 'You used several methods to separate and identify the substances in mock rocks. How did you separate the salt from the water? [SEP] Evaporate.',\n",
              " 'You used several methods to separate and identify the substances in mock rocks. How did you separate the salt from the water? [SEP] The crystals were salt.',\n",
              " 'You used several methods to separate and identify the substances in mock rocks. How did you know the crystals were salt? [SEP] We used magnifying glasses and some sort of guide thing that told us what different kinds of salt looks like.',\n",
              " 'You used several methods to separate and identify the substances in mock rocks. How did you know the crystals were salt? [SEP] You take a look through the magnifying glass.',\n",
              " 'You used several methods to separate and identify the substances in mock rocks. How did you know the crystals were salt? [SEP] Because of the paper we looked at.',\n",
              " 'You used several methods to separate and identify the substances in mock rocks. How did you know the crystals were salt? [SEP] We looked at a piece of paper and one of the pictures looked like the crystals.',\n",
              " 'You used several methods to separate and identify the substances in mock rocks. How did you know the crystals were salt? [SEP] They will not shine.',\n",
              " 'You used several methods to separate and identify the substances in mock rocks. How did you know the crystals were salt? [SEP] They were square like salt.',\n",
              " 'You used several methods to separate and identify the substances in mock rocks. How did you know the crystals were salt? [SEP] We knew the crystals were salt because the crystal identification chart showed us that the different kinds of salt were crystals.',\n",
              " 'You used several methods to separate and identify the substances in mock rocks. How did you know the crystals were salt? [SEP] It said so on a paper.',\n",
              " 'You used several methods to separate and identify the substances in mock rocks. How did you know the crystals were salt? [SEP] Because it was at it because we had a chart that could tell us that.',\n",
              " 'You used several methods to separate and identify the substances in mock rocks. How did you know the crystals were salt? [SEP] They looked like salt.',\n",
              " 'You used several methods to separate and identify the substances in mock rocks. How did you know the crystals were salt? [SEP] We got a sheet with different kinds of crystals. So I looked for the same picture like the crystal and it said Kosher salt.',\n",
              " 'You used several methods to separate and identify the substances in mock rocks. How did you know the crystals were salt? [SEP] The teacher told us.',\n",
              " 'You used several methods to separate and identify the substances in mock rocks. How did you know the crystals were salt? [SEP] Because salt is made up of little crystals.',\n",
              " 'You used several methods to separate and identify the substances in mock rocks. How did you know the crystals were salt? [SEP] Because salt look like little pieces of a crystal.',\n",
              " 'You used several methods to separate and identify the substances in mock rocks. How did you know the crystals were salt? [SEP] I knew because they were shaped like kosher salt.',\n",
              " 'You used several methods to separate and identify the substances in mock rocks. How did you know the crystals were salt? [SEP] I knew the crystals were salt by the movie we watched.',\n",
              " 'You used several methods to separate and identify the substances in mock rocks. How did you know the crystals were salt? [SEP] Because flour does not turn into crystals.',\n",
              " 'You used several methods to separate and identify the substances in mock rocks. How did you know the crystals were salt? [SEP] Because salt is a crystal.',\n",
              " 'You used several methods to separate and identify the substances in mock rocks. How did you know the crystals were salt? [SEP] Because it has a X in the middle, and salt was in it.',\n",
              " 'You used several methods to separate and identify the substances in mock rocks. How did you know the crystals were salt? [SEP] The crystals are kosher salt and kosher salt is salt!',\n",
              " 'You used several methods to separate and identify the substances in mock rocks. How did you know the crystals were salt? [SEP] By looking at the crystal identification sheet.',\n",
              " 'You used several methods to separate and identify the substances in mock rocks. How did you know the crystals were salt? [SEP] Because we measured them.',\n",
              " 'You used several methods to separate and identify the substances in mock rocks. How did you know the crystals were salt? [SEP] Because it was so shiny.',\n",
              " 'You used several methods to separate and identify the substances in mock rocks. How did you know the crystals were salt? [SEP] They were powdery.',\n",
              " 'You used several methods to separate and identify the substances in mock rocks. How did you know the crystals were salt? [SEP] Because there were little shining things inside and I knew it was salt.',\n",
              " 'You used several methods to separate and identify the substances in mock rocks. How did you know the crystals were salt? [SEP] Because we learned it because it was white that is how we knew.',\n",
              " 'You used several methods to separate and identify the substances in mock rocks. How did you know the crystals were salt? [SEP] I would know that the crystals were salt is the way how it looks.',\n",
              " 'You used several methods to separate and identify the substances in mock rocks. How did you know the crystals were salt? [SEP] We poured the water we left it alone for 2 days and they dry up.',\n",
              " 'You used several methods to separate and identify the substances in mock rocks. How did you know the crystals were salt? [SEP] After the water dried we noticed it was Kosher salt.',\n",
              " 'You used several methods to separate and identify the substances in mock rocks. How did you know the crystals were salt? [SEP] By breaking the rock.',\n",
              " 'You used several methods to separate and identify the substances in mock rocks. How did you know the crystals were salt? [SEP] Because it tastes like salt.',\n",
              " 'You used several methods to separate and identify the substances in mock rocks. How did you know the crystals were salt? [SEP] Because crystals are a kind of salt.',\n",
              " 'You used several methods to separate and identify the substances in mock rocks. How did you know the crystals were salt? [SEP] I looked at them really closely and they looked like crystals and diamonds.',\n",
              " 'You used several methods to separate and identify the substances in mock rocks. How did you know the crystals were salt? [SEP] Because we looked in the magnifying glass.',\n",
              " 'You used several methods to separate and identify the substances in mock rocks. How did you know the crystals were salt? [SEP] I knew the crystals were salt because of the patterns and shapes.',\n",
              " 'You used several methods to separate and identify the substances in mock rocks. How did you know the crystals were salt? [SEP] I looked at the chart.',\n",
              " 'Ms. Teridann, a geologist, made a chart showing the scratch-test data for 3 minerals (Mineral X, Mineral Y, and Mineral Z). She wrote \"yes\" if the tool scratched the mineral and wrote \"no\" if it did not scratch it. Topaz is a mineral that cannot be scratched by a fingernail, a penny, or a paperclip. How hard is topaz compared to minerals X, Y, and Z? Explain how you know. [SEP] Topaz is harder because it would be all no on the chart.',\n",
              " 'Ms. Teridann, a geologist, made a chart showing the scratch-test data for 3 minerals (Mineral X, Mineral Y, and Mineral Z). She wrote \"yes\" if the tool scratched the mineral and wrote \"no\" if it did not scratch it. Topaz is a mineral that cannot be scratched by a fingernail, a penny, or a paperclip. How hard is topaz compared to minerals X, Y, and Z? Explain how you know. [SEP] Topaz is harder. Because topaz is the hardest birthstone.',\n",
              " 'Ms. Teridann, a geologist, made a chart showing the scratch-test data for 3 minerals (Mineral X, Mineral Y, and Mineral Z). She wrote \"yes\" if the tool scratched the mineral and wrote \"no\" if it did not scratch it. Topaz is a mineral that cannot be scratched by a fingernail, a penny, or a paperclip. How hard is topaz compared to minerals X, Y, and Z? Explain how you know. [SEP] Topaz is hard because you cannot scratch it with penny, fingernail or a paperclip.',\n",
              " 'Ms. Teridann, a geologist, made a chart showing the scratch-test data for 3 minerals (Mineral X, Mineral Y, and Mineral Z). She wrote \"yes\" if the tool scratched the mineral and wrote \"no\" if it did not scratch it. Topaz is a mineral that cannot be scratched by a fingernail, a penny, or a paperclip. How hard is topaz compared to minerals X, Y, and Z? Explain how you know. [SEP] M to Z is harder than mineral X and Y.',\n",
              " 'Ms. Teridann, a geologist, made a chart showing the scratch-test data for 3 minerals (Mineral X, Mineral Y, and Mineral Z). She wrote \"yes\" if the tool scratched the mineral and wrote \"no\" if it did not scratch it. Topaz is a mineral that cannot be scratched by a fingernail, a penny, or a paperclip. How hard is topaz compared to minerals X, Y, and Z? Explain how you know. [SEP] It is harder than X Y Z because we read about it this morning.',\n",
              " 'Ms. Teridann, a geologist, made a chart showing the scratch-test data for 3 minerals (Mineral X, Mineral Y, and Mineral Z). She wrote \"yes\" if the tool scratched the mineral and wrote \"no\" if it did not scratch it. Topaz is a mineral that cannot be scratched by a fingernail, a penny, or a paperclip. How hard is topaz compared to minerals X, Y, and Z? Explain how you know. [SEP] It is harder than them.',\n",
              " 'Ms. Teridann, a geologist, made a chart showing the scratch-test data for 3 minerals (Mineral X, Mineral Y, and Mineral Z). She wrote \"yes\" if the tool scratched the mineral and wrote \"no\" if it did not scratch it. Topaz is a mineral that cannot be scratched by a fingernail, a penny, or a paperclip. How hard is topaz compared to minerals X, Y, and Z? Explain how you know. [SEP] It is harder than minerals X, Y, and Z because it cannot be scratched by either one.',\n",
              " 'Ms. Teridann, a geologist, made a chart showing the scratch-test data for 3 minerals (Mineral X, Mineral Y, and Mineral Z). She wrote \"yes\" if the tool scratched the mineral and wrote \"no\" if it did not scratch it. Topaz is a mineral that cannot be scratched by a fingernail, a penny, or a paperclip. How hard is topaz compared to minerals X, Y, and Z? Explain how you know. [SEP] A topaz is compared to Z because it cannot be scratched with 2 thirds things. Y is all the opposite of topaz. X cannot be scratched with one third of a topaz cannot be scratched.',\n",
              " 'Ms. Teridann, a geologist, made a chart showing the scratch-test data for 3 minerals (Mineral X, Mineral Y, and Mineral Z). She wrote \"yes\" if the tool scratched the mineral and wrote \"no\" if it did not scratch it. Topaz is a mineral that cannot be scratched by a fingernail, a penny, or a paperclip. How hard is topaz compared to minerals X, Y, and Z? Explain how you know. [SEP] The Topaz is the first hardest mineral out of the 3 on the chart.',\n",
              " 'Ms. Teridann, a geologist, made a chart showing the scratch-test data for 3 minerals (Mineral X, Mineral Y, and Mineral Z). She wrote \"yes\" if the tool scratched the mineral and wrote \"no\" if it did not scratch it. Topaz is a mineral that cannot be scratched by a fingernail, a penny, or a paperclip. How hard is topaz compared to minerals X, Y, and Z? Explain how you know. [SEP] Topaz is harder than all of them. It is just barely harder than Z, way harder than Y, and pretty harder than X.',\n",
              " 'Ms. Teridann, a geologist, made a chart showing the scratch-test data for 3 minerals (Mineral X, Mineral Y, and Mineral Z). She wrote \"yes\" if the tool scratched the mineral and wrote \"no\" if it did not scratch it. Topaz is a mineral that cannot be scratched by a fingernail, a penny, or a paperclip. How hard is topaz compared to minerals X, Y, and Z? Explain how you know. [SEP] Topaz is harder than X, Y, and Z because Topaz cannot be scratched by a fingernail, a penny, or a paperclip so it is the hardest.',\n",
              " 'Ms. Teridann, a geologist, made a chart showing the scratch-test data for 3 minerals (Mineral X, Mineral Y, and Mineral Z). She wrote \"yes\" if the tool scratched the mineral and wrote \"no\" if it did not scratch it. Topaz is a mineral that cannot be scratched by a fingernail, a penny, or a paperclip. How hard is topaz compared to minerals X, Y, and Z? Explain how you know. [SEP] Tied with mineral Y because they are both yes, yes, and yes.',\n",
              " 'Ms. Teridann, a geologist, made a chart showing the scratch-test data for 3 minerals (Mineral X, Mineral Y, and Mineral Z). She wrote \"yes\" if the tool scratched the mineral and wrote \"no\" if it did not scratch it. Topaz is a mineral that cannot be scratched by a fingernail, a penny, or a paperclip. How hard is topaz compared to minerals X, Y, and Z? Explain how you know. [SEP] Topaz would be all no\\'s compared the minerals X, Y, and Z because topaz is one of the scratch free minerals.',\n",
              " 'Ms. Teridann, a geologist, made a chart showing the scratch-test data for 3 minerals (Mineral X, Mineral Y, and Mineral Z). She wrote \"yes\" if the tool scratched the mineral and wrote \"no\" if it did not scratch it. Topaz is a mineral that cannot be scratched by a fingernail, a penny, or a paperclip. How hard is topaz compared to minerals X, Y, and Z? Explain how you know. [SEP] Topaz is harder than minerals X, Y, and Z because Topaz cannot be scratched by a fingernail, penny or a paperclip. So it is harder.',\n",
              " 'Ms. Teridann, a geologist, made a chart showing the scratch-test data for 3 minerals (Mineral X, Mineral Y, and Mineral Z). She wrote \"yes\" if the tool scratched the mineral and wrote \"no\" if it did not scratch it. Topaz is a mineral that cannot be scratched by a fingernail, a penny, or a paperclip. How hard is topaz compared to minerals X, Y, and Z? Explain how you know. [SEP] It is a soft rock Z, I think it is the same as Y because they can both be scratched by everything. It is little bit hard to X.',\n",
              " 'Ms. Teridann, a geologist, made a chart showing the scratch-test data for 3 minerals (Mineral X, Mineral Y, and Mineral Z). She wrote \"yes\" if the tool scratched the mineral and wrote \"no\" if it did not scratch it. Topaz is a mineral that cannot be scratched by a fingernail, a penny, or a paperclip. How hard is topaz compared to minerals X, Y, and Z? Explain how you know. [SEP] Topaz is harder than X, Y, and Z because it cannot be scratched by a fingernail, a laser, or a paperclip.',\n",
              " 'Ms. Teridann, a geologist, made a chart showing the scratch-test data for 3 minerals (Mineral X, Mineral Y, and Mineral Z). She wrote \"yes\" if the tool scratched the mineral and wrote \"no\" if it did not scratch it. Topaz is a mineral that cannot be scratched by a fingernail, a penny, or a paperclip. How hard is topaz compared to minerals X, Y, and Z? Explain how you know. [SEP] Topaz is the hardest out of all minerals because it did not get scratched by any tool.',\n",
              " 'Ms. Teridann, a geologist, made a chart showing the scratch-test data for 3 minerals (Mineral X, Mineral Y, and Mineral Z). She wrote \"yes\" if the tool scratched the mineral and wrote \"no\" if it did not scratch it. Topaz is a mineral that cannot be scratched by a fingernail, a penny, or a paperclip. How hard is topaz compared to minerals X, Y, and Z? Explain how you know. [SEP] Like steel if you rub them and if it does not scratch.',\n",
              " 'Ms. Teridann, a geologist, made a chart showing the scratch-test data for 3 minerals (Mineral X, Mineral Y, and Mineral Z). She wrote \"yes\" if the tool scratched the mineral and wrote \"no\" if it did not scratch it. Topaz is a mineral that cannot be scratched by a fingernail, a penny, or a paperclip. How hard is topaz compared to minerals X, Y, and Z? Explain how you know. [SEP] It is harder than all of the other minerals because it cannot get scratched by none of the scratching materials and all the other minerals can get scratched at least one time.',\n",
              " 'Ms. Teridann, a geologist, made a chart showing the scratch-test data for 3 minerals (Mineral X, Mineral Y, and Mineral Z). She wrote \"yes\" if the tool scratched the mineral and wrote \"no\" if it did not scratch it. Topaz is a mineral that cannot be scratched by a fingernail, a penny, or a paperclip. How hard is topaz compared to minerals X, Y, and Z? Explain how you know. [SEP] It is harder than X, Y, Z. I know it is harder than X, Y, and Z because nothing can scratch it.',\n",
              " 'Ms. Teridann, a geologist, made a chart showing the scratch-test data for 3 minerals (Mineral X, Mineral Y, and Mineral Z). She wrote \"yes\" if the tool scratched the mineral and wrote \"no\" if it did not scratch it. Topaz is a mineral that cannot be scratched by a fingernail, a penny, or a paperclip. How hard is topaz compared to minerals X, Y, and Z? Explain how you know. [SEP] Minerals X has 2 of them in a paperclip and penny. And the Y, Z and the minerals Y is the hardest in it.',\n",
              " 'Ms. Teridann, a geologist, made a chart showing the scratch-test data for 3 minerals (Mineral X, Mineral Y, and Mineral Z). She wrote \"yes\" if the tool scratched the mineral and wrote \"no\" if it did not scratch it. Topaz is a mineral that cannot be scratched by a fingernail, a penny, or a paperclip. How hard is topaz compared to minerals X, Y, and Z? Explain how you know. [SEP] It is the hardest because it cannot be scratched by any of them and the others can be scratched with at least one of the minerals.',\n",
              " 'Ms. Teridann, a geologist, made a chart showing the scratch-test data for 3 minerals (Mineral X, Mineral Y, and Mineral Z). She wrote \"yes\" if the tool scratched the mineral and wrote \"no\" if it did not scratch it. Topaz is a mineral that cannot be scratched by a fingernail, a penny, or a paperclip. How hard is topaz compared to minerals X, Y, and Z? Explain how you know. [SEP] Mineral Z can scratch topaz because mineral Z cannot be scratched by a penny or a fingernail but it can get scratched by a paperclip.',\n",
              " 'Ms. Teridann, a geologist, made a chart showing the scratch-test data for 3 minerals (Mineral X, Mineral Y, and Mineral Z). She wrote \"yes\" if the tool scratched the mineral and wrote \"no\" if it did not scratch it. Topaz is a mineral that cannot be scratched by a fingernail, a penny, or a paperclip. How hard is topaz compared to minerals X, Y, and Z? Explain how you know. [SEP] It is so strong that minerals X, Y, Z cannot break it.',\n",
              " 'Ms. Teridann, a geologist, made a chart showing the scratch-test data for 3 minerals (Mineral X, Mineral Y, and Mineral Z). She wrote \"yes\" if the tool scratched the mineral and wrote \"no\" if it did not scratch it. Topaz is a mineral that cannot be scratched by a fingernail, a penny, or a paperclip. How hard is topaz compared to minerals X, Y, and Z? Explain how you know. [SEP] I know because when you break a rock that is when you know it is hard or not hard.',\n",
              " 'Ms. Teridann, a geologist, made a chart showing the scratch-test data for 3 minerals (Mineral X, Mineral Y, and Mineral Z). She wrote \"yes\" if the tool scratched the mineral and wrote \"no\" if it did not scratch it. Topaz is a mineral that cannot be scratched by a fingernail, a penny, or a paperclip. How hard is topaz compared to minerals X, Y, and Z? Explain how you know. [SEP] How it is compared to X, Y, and Z is that the finger and the penny cannot scratch mineral X and Z.',\n",
              " 'Ms. Teridann, a geologist, made a chart showing the scratch-test data for 3 minerals (Mineral X, Mineral Y, and Mineral Z). She wrote \"yes\" if the tool scratched the mineral and wrote \"no\" if it did not scratch it. Topaz is a mineral that cannot be scratched by a fingernail, a penny, or a paperclip. How hard is topaz compared to minerals X, Y, and Z? Explain how you know. [SEP] I know it is Z because it has one yes and 2 no\\'s.']"
            ]
          },
          "metadata": {},
          "execution_count": 13
        }
      ]
    },
    {
      "cell_type": "code",
      "source": [
        "df2 = pd.DataFrame()\n",
        "df2[\"Text\"] = sentencesf\n",
        "df2[\"Label\"] = df['score']\n",
        "df2=df2[:200]\n",
        "\n",
        "df2.head()"
      ],
      "metadata": {
        "colab": {
          "base_uri": "https://localhost:8080/",
          "height": 206
        },
        "id": "ndMtK4FATvNi",
        "outputId": "d40f0dd9-11f1-4eb8-bde0-1ec4ddfa948d"
      },
      "execution_count": null,
      "outputs": [
        {
          "output_type": "execute_result",
          "data": {
            "text/plain": [
              "                                                Text  Label\n",
              "0  You used several methods to separate and ident...      3\n",
              "1  You used several methods to separate and ident...      5\n",
              "2  You used several methods to separate and ident...      5\n",
              "3  You used several methods to separate and ident...      2\n",
              "4  You used several methods to separate and ident...      3"
            ],
            "text/html": [
              "\n",
              "  <div id=\"df-a1813811-804a-48ad-a7cb-1ef18f982b01\">\n",
              "    <div class=\"colab-df-container\">\n",
              "      <div>\n",
              "<style scoped>\n",
              "    .dataframe tbody tr th:only-of-type {\n",
              "        vertical-align: middle;\n",
              "    }\n",
              "\n",
              "    .dataframe tbody tr th {\n",
              "        vertical-align: top;\n",
              "    }\n",
              "\n",
              "    .dataframe thead th {\n",
              "        text-align: right;\n",
              "    }\n",
              "</style>\n",
              "<table border=\"1\" class=\"dataframe\">\n",
              "  <thead>\n",
              "    <tr style=\"text-align: right;\">\n",
              "      <th></th>\n",
              "      <th>Text</th>\n",
              "      <th>Label</th>\n",
              "    </tr>\n",
              "  </thead>\n",
              "  <tbody>\n",
              "    <tr>\n",
              "      <th>0</th>\n",
              "      <td>You used several methods to separate and ident...</td>\n",
              "      <td>3</td>\n",
              "    </tr>\n",
              "    <tr>\n",
              "      <th>1</th>\n",
              "      <td>You used several methods to separate and ident...</td>\n",
              "      <td>5</td>\n",
              "    </tr>\n",
              "    <tr>\n",
              "      <th>2</th>\n",
              "      <td>You used several methods to separate and ident...</td>\n",
              "      <td>5</td>\n",
              "    </tr>\n",
              "    <tr>\n",
              "      <th>3</th>\n",
              "      <td>You used several methods to separate and ident...</td>\n",
              "      <td>2</td>\n",
              "    </tr>\n",
              "    <tr>\n",
              "      <th>4</th>\n",
              "      <td>You used several methods to separate and ident...</td>\n",
              "      <td>3</td>\n",
              "    </tr>\n",
              "  </tbody>\n",
              "</table>\n",
              "</div>\n",
              "      <button class=\"colab-df-convert\" onclick=\"convertToInteractive('df-a1813811-804a-48ad-a7cb-1ef18f982b01')\"\n",
              "              title=\"Convert this dataframe to an interactive table.\"\n",
              "              style=\"display:none;\">\n",
              "        \n",
              "  <svg xmlns=\"http://www.w3.org/2000/svg\" height=\"24px\"viewBox=\"0 0 24 24\"\n",
              "       width=\"24px\">\n",
              "    <path d=\"M0 0h24v24H0V0z\" fill=\"none\"/>\n",
              "    <path d=\"M18.56 5.44l.94 2.06.94-2.06 2.06-.94-2.06-.94-.94-2.06-.94 2.06-2.06.94zm-11 1L8.5 8.5l.94-2.06 2.06-.94-2.06-.94L8.5 2.5l-.94 2.06-2.06.94zm10 10l.94 2.06.94-2.06 2.06-.94-2.06-.94-.94-2.06-.94 2.06-2.06.94z\"/><path d=\"M17.41 7.96l-1.37-1.37c-.4-.4-.92-.59-1.43-.59-.52 0-1.04.2-1.43.59L10.3 9.45l-7.72 7.72c-.78.78-.78 2.05 0 2.83L4 21.41c.39.39.9.59 1.41.59.51 0 1.02-.2 1.41-.59l7.78-7.78 2.81-2.81c.8-.78.8-2.07 0-2.86zM5.41 20L4 18.59l7.72-7.72 1.47 1.35L5.41 20z\"/>\n",
              "  </svg>\n",
              "      </button>\n",
              "      \n",
              "  <style>\n",
              "    .colab-df-container {\n",
              "      display:flex;\n",
              "      flex-wrap:wrap;\n",
              "      gap: 12px;\n",
              "    }\n",
              "\n",
              "    .colab-df-convert {\n",
              "      background-color: #E8F0FE;\n",
              "      border: none;\n",
              "      border-radius: 50%;\n",
              "      cursor: pointer;\n",
              "      display: none;\n",
              "      fill: #1967D2;\n",
              "      height: 32px;\n",
              "      padding: 0 0 0 0;\n",
              "      width: 32px;\n",
              "    }\n",
              "\n",
              "    .colab-df-convert:hover {\n",
              "      background-color: #E2EBFA;\n",
              "      box-shadow: 0px 1px 2px rgba(60, 64, 67, 0.3), 0px 1px 3px 1px rgba(60, 64, 67, 0.15);\n",
              "      fill: #174EA6;\n",
              "    }\n",
              "\n",
              "    [theme=dark] .colab-df-convert {\n",
              "      background-color: #3B4455;\n",
              "      fill: #D2E3FC;\n",
              "    }\n",
              "\n",
              "    [theme=dark] .colab-df-convert:hover {\n",
              "      background-color: #434B5C;\n",
              "      box-shadow: 0px 1px 3px 1px rgba(0, 0, 0, 0.15);\n",
              "      filter: drop-shadow(0px 1px 2px rgba(0, 0, 0, 0.3));\n",
              "      fill: #FFFFFF;\n",
              "    }\n",
              "  </style>\n",
              "\n",
              "      <script>\n",
              "        const buttonEl =\n",
              "          document.querySelector('#df-a1813811-804a-48ad-a7cb-1ef18f982b01 button.colab-df-convert');\n",
              "        buttonEl.style.display =\n",
              "          google.colab.kernel.accessAllowed ? 'block' : 'none';\n",
              "\n",
              "        async function convertToInteractive(key) {\n",
              "          const element = document.querySelector('#df-a1813811-804a-48ad-a7cb-1ef18f982b01');\n",
              "          const dataTable =\n",
              "            await google.colab.kernel.invokeFunction('convertToInteractive',\n",
              "                                                     [key], {});\n",
              "          if (!dataTable) return;\n",
              "\n",
              "          const docLinkHtml = 'Like what you see? Visit the ' +\n",
              "            '<a target=\"_blank\" href=https://colab.research.google.com/notebooks/data_table.ipynb>data table notebook</a>'\n",
              "            + ' to learn more about interactive tables.';\n",
              "          element.innerHTML = '';\n",
              "          dataTable['output_type'] = 'display_data';\n",
              "          await google.colab.output.renderOutput(dataTable, element);\n",
              "          const docLink = document.createElement('div');\n",
              "          docLink.innerHTML = docLinkHtml;\n",
              "          element.appendChild(docLink);\n",
              "        }\n",
              "      </script>\n",
              "    </div>\n",
              "  </div>\n",
              "  "
            ]
          },
          "metadata": {},
          "execution_count": 14
        }
      ]
    },
    {
      "cell_type": "code",
      "source": [
        "df.tail()"
      ],
      "metadata": {
        "colab": {
          "base_uri": "https://localhost:8080/",
          "height": 354
        },
        "id": "xSl1L6wlT0IQ",
        "outputId": "3948e288-4602-4408-d8e1-b235eca0ae26"
      },
      "execution_count": null,
      "outputs": [
        {
          "output_type": "execute_result",
          "data": {
            "text/plain": [
              "    Unnamed: 0      id module  \\\n",
              "94          94  EM_16b     EM   \n",
              "95          95  EM_16b     EM   \n",
              "96          96  EM_16b     EM   \n",
              "97          97  EM_16b     EM   \n",
              "98          98  EM_16b     EM   \n",
              "\n",
              "                                         questionText  \\\n",
              "94  Ms. Teridann, a geologist, made a chart showin...   \n",
              "95  Ms. Teridann, a geologist, made a chart showin...   \n",
              "96  Ms. Teridann, a geologist, made a chart showin...   \n",
              "97  Ms. Teridann, a geologist, made a chart showin...   \n",
              "98  Ms. Teridann, a geologist, made a chart showin...   \n",
              "\n",
              "                                      referenceAnswer        id2  \\\n",
              "94  Topaz would be the hardest of the 4 minerals b...  EM_16b-a1   \n",
              "95  Topaz would be the hardest of the 4 minerals b...  EM_16b-a1   \n",
              "96  Topaz would be the hardest of the 4 minerals b...  EM_16b-a1   \n",
              "97  Topaz would be the hardest of the 4 minerals b...  EM_16b-a1   \n",
              "98  Topaz would be the hardest of the 4 minerals b...  EM_16b-a1   \n",
              "\n",
              "                                        studentAnswer           id3  \\\n",
              "94  Mineral Z can scratch topaz because mineral Z ...  EM.16b.528.1   \n",
              "95  It is so strong that minerals X, Y, Z cannot b...  EM.16b.532.1   \n",
              "96  I know because when you break a rock that is w...  EM.16b.538.1   \n",
              "97  How it is compared to X, Y, and Z is that the ...  EM.16b.540.1   \n",
              "98  I know it is Z because it has one yes and 2 no's.  EM.16b.573.1   \n",
              "\n",
              "     accuracy  similarity_score  score  \n",
              "94  incorrect          0.831408      4  \n",
              "95  incorrect          0.553564      2  \n",
              "96  incorrect          0.539603      2  \n",
              "97  incorrect          0.572323      2  \n",
              "98  incorrect          0.379464      1  "
            ],
            "text/html": [
              "\n",
              "  <div id=\"df-85438a70-7f7e-489a-942a-14fd0bac70a2\">\n",
              "    <div class=\"colab-df-container\">\n",
              "      <div>\n",
              "<style scoped>\n",
              "    .dataframe tbody tr th:only-of-type {\n",
              "        vertical-align: middle;\n",
              "    }\n",
              "\n",
              "    .dataframe tbody tr th {\n",
              "        vertical-align: top;\n",
              "    }\n",
              "\n",
              "    .dataframe thead th {\n",
              "        text-align: right;\n",
              "    }\n",
              "</style>\n",
              "<table border=\"1\" class=\"dataframe\">\n",
              "  <thead>\n",
              "    <tr style=\"text-align: right;\">\n",
              "      <th></th>\n",
              "      <th>Unnamed: 0</th>\n",
              "      <th>id</th>\n",
              "      <th>module</th>\n",
              "      <th>questionText</th>\n",
              "      <th>referenceAnswer</th>\n",
              "      <th>id2</th>\n",
              "      <th>studentAnswer</th>\n",
              "      <th>id3</th>\n",
              "      <th>accuracy</th>\n",
              "      <th>similarity_score</th>\n",
              "      <th>score</th>\n",
              "    </tr>\n",
              "  </thead>\n",
              "  <tbody>\n",
              "    <tr>\n",
              "      <th>94</th>\n",
              "      <td>94</td>\n",
              "      <td>EM_16b</td>\n",
              "      <td>EM</td>\n",
              "      <td>Ms. Teridann, a geologist, made a chart showin...</td>\n",
              "      <td>Topaz would be the hardest of the 4 minerals b...</td>\n",
              "      <td>EM_16b-a1</td>\n",
              "      <td>Mineral Z can scratch topaz because mineral Z ...</td>\n",
              "      <td>EM.16b.528.1</td>\n",
              "      <td>incorrect</td>\n",
              "      <td>0.831408</td>\n",
              "      <td>4</td>\n",
              "    </tr>\n",
              "    <tr>\n",
              "      <th>95</th>\n",
              "      <td>95</td>\n",
              "      <td>EM_16b</td>\n",
              "      <td>EM</td>\n",
              "      <td>Ms. Teridann, a geologist, made a chart showin...</td>\n",
              "      <td>Topaz would be the hardest of the 4 minerals b...</td>\n",
              "      <td>EM_16b-a1</td>\n",
              "      <td>It is so strong that minerals X, Y, Z cannot b...</td>\n",
              "      <td>EM.16b.532.1</td>\n",
              "      <td>incorrect</td>\n",
              "      <td>0.553564</td>\n",
              "      <td>2</td>\n",
              "    </tr>\n",
              "    <tr>\n",
              "      <th>96</th>\n",
              "      <td>96</td>\n",
              "      <td>EM_16b</td>\n",
              "      <td>EM</td>\n",
              "      <td>Ms. Teridann, a geologist, made a chart showin...</td>\n",
              "      <td>Topaz would be the hardest of the 4 minerals b...</td>\n",
              "      <td>EM_16b-a1</td>\n",
              "      <td>I know because when you break a rock that is w...</td>\n",
              "      <td>EM.16b.538.1</td>\n",
              "      <td>incorrect</td>\n",
              "      <td>0.539603</td>\n",
              "      <td>2</td>\n",
              "    </tr>\n",
              "    <tr>\n",
              "      <th>97</th>\n",
              "      <td>97</td>\n",
              "      <td>EM_16b</td>\n",
              "      <td>EM</td>\n",
              "      <td>Ms. Teridann, a geologist, made a chart showin...</td>\n",
              "      <td>Topaz would be the hardest of the 4 minerals b...</td>\n",
              "      <td>EM_16b-a1</td>\n",
              "      <td>How it is compared to X, Y, and Z is that the ...</td>\n",
              "      <td>EM.16b.540.1</td>\n",
              "      <td>incorrect</td>\n",
              "      <td>0.572323</td>\n",
              "      <td>2</td>\n",
              "    </tr>\n",
              "    <tr>\n",
              "      <th>98</th>\n",
              "      <td>98</td>\n",
              "      <td>EM_16b</td>\n",
              "      <td>EM</td>\n",
              "      <td>Ms. Teridann, a geologist, made a chart showin...</td>\n",
              "      <td>Topaz would be the hardest of the 4 minerals b...</td>\n",
              "      <td>EM_16b-a1</td>\n",
              "      <td>I know it is Z because it has one yes and 2 no's.</td>\n",
              "      <td>EM.16b.573.1</td>\n",
              "      <td>incorrect</td>\n",
              "      <td>0.379464</td>\n",
              "      <td>1</td>\n",
              "    </tr>\n",
              "  </tbody>\n",
              "</table>\n",
              "</div>\n",
              "      <button class=\"colab-df-convert\" onclick=\"convertToInteractive('df-85438a70-7f7e-489a-942a-14fd0bac70a2')\"\n",
              "              title=\"Convert this dataframe to an interactive table.\"\n",
              "              style=\"display:none;\">\n",
              "        \n",
              "  <svg xmlns=\"http://www.w3.org/2000/svg\" height=\"24px\"viewBox=\"0 0 24 24\"\n",
              "       width=\"24px\">\n",
              "    <path d=\"M0 0h24v24H0V0z\" fill=\"none\"/>\n",
              "    <path d=\"M18.56 5.44l.94 2.06.94-2.06 2.06-.94-2.06-.94-.94-2.06-.94 2.06-2.06.94zm-11 1L8.5 8.5l.94-2.06 2.06-.94-2.06-.94L8.5 2.5l-.94 2.06-2.06.94zm10 10l.94 2.06.94-2.06 2.06-.94-2.06-.94-.94-2.06-.94 2.06-2.06.94z\"/><path d=\"M17.41 7.96l-1.37-1.37c-.4-.4-.92-.59-1.43-.59-.52 0-1.04.2-1.43.59L10.3 9.45l-7.72 7.72c-.78.78-.78 2.05 0 2.83L4 21.41c.39.39.9.59 1.41.59.51 0 1.02-.2 1.41-.59l7.78-7.78 2.81-2.81c.8-.78.8-2.07 0-2.86zM5.41 20L4 18.59l7.72-7.72 1.47 1.35L5.41 20z\"/>\n",
              "  </svg>\n",
              "      </button>\n",
              "      \n",
              "  <style>\n",
              "    .colab-df-container {\n",
              "      display:flex;\n",
              "      flex-wrap:wrap;\n",
              "      gap: 12px;\n",
              "    }\n",
              "\n",
              "    .colab-df-convert {\n",
              "      background-color: #E8F0FE;\n",
              "      border: none;\n",
              "      border-radius: 50%;\n",
              "      cursor: pointer;\n",
              "      display: none;\n",
              "      fill: #1967D2;\n",
              "      height: 32px;\n",
              "      padding: 0 0 0 0;\n",
              "      width: 32px;\n",
              "    }\n",
              "\n",
              "    .colab-df-convert:hover {\n",
              "      background-color: #E2EBFA;\n",
              "      box-shadow: 0px 1px 2px rgba(60, 64, 67, 0.3), 0px 1px 3px 1px rgba(60, 64, 67, 0.15);\n",
              "      fill: #174EA6;\n",
              "    }\n",
              "\n",
              "    [theme=dark] .colab-df-convert {\n",
              "      background-color: #3B4455;\n",
              "      fill: #D2E3FC;\n",
              "    }\n",
              "\n",
              "    [theme=dark] .colab-df-convert:hover {\n",
              "      background-color: #434B5C;\n",
              "      box-shadow: 0px 1px 3px 1px rgba(0, 0, 0, 0.15);\n",
              "      filter: drop-shadow(0px 1px 2px rgba(0, 0, 0, 0.3));\n",
              "      fill: #FFFFFF;\n",
              "    }\n",
              "  </style>\n",
              "\n",
              "      <script>\n",
              "        const buttonEl =\n",
              "          document.querySelector('#df-85438a70-7f7e-489a-942a-14fd0bac70a2 button.colab-df-convert');\n",
              "        buttonEl.style.display =\n",
              "          google.colab.kernel.accessAllowed ? 'block' : 'none';\n",
              "\n",
              "        async function convertToInteractive(key) {\n",
              "          const element = document.querySelector('#df-85438a70-7f7e-489a-942a-14fd0bac70a2');\n",
              "          const dataTable =\n",
              "            await google.colab.kernel.invokeFunction('convertToInteractive',\n",
              "                                                     [key], {});\n",
              "          if (!dataTable) return;\n",
              "\n",
              "          const docLinkHtml = 'Like what you see? Visit the ' +\n",
              "            '<a target=\"_blank\" href=https://colab.research.google.com/notebooks/data_table.ipynb>data table notebook</a>'\n",
              "            + ' to learn more about interactive tables.';\n",
              "          element.innerHTML = '';\n",
              "          dataTable['output_type'] = 'display_data';\n",
              "          await google.colab.output.renderOutput(dataTable, element);\n",
              "          const docLink = document.createElement('div');\n",
              "          docLink.innerHTML = docLinkHtml;\n",
              "          element.appendChild(docLink);\n",
              "        }\n",
              "      </script>\n",
              "    </div>\n",
              "  </div>\n",
              "  "
            ]
          },
          "metadata": {},
          "execution_count": 15
        }
      ]
    },
    {
      "cell_type": "code",
      "source": [
        "from sklearn.model_selection import train_test_split\n",
        "X_train, X_test, y_train, y_test = train_test_split(df2[\"Text\"].values, df2[\"Label\"].values, test_size=0.1, random_state=2)"
      ],
      "metadata": {
        "id": "2tTjDHXeT1oC"
      },
      "execution_count": null,
      "outputs": []
    },
    {
      "cell_type": "code",
      "source": [
        "import os"
      ],
      "metadata": {
        "id": "rgkwelnIT4vN"
      },
      "execution_count": null,
      "outputs": []
    },
    {
      "cell_type": "code",
      "source": [
        "import tensorflow as tf"
      ],
      "metadata": {
        "id": "nQxWu7PwT8XC"
      },
      "execution_count": null,
      "outputs": []
    },
    {
      "cell_type": "code",
      "source": [
        "def create_examples(lines, set_type, labels=None):\n",
        "#Generate data for the BERT model\n",
        "    guid = f'{set_type}'\n",
        "    examples = []\n",
        "    if guid == 'train':\n",
        "        for line, label in zip(lines, labels):\n",
        "            text_a = line\n",
        "            label = str(label)\n",
        "            examples.append(\n",
        "              run_classifier.InputExample(guid=guid, text_a=text_a, text_b=None, label=label))\n",
        "    else:\n",
        "        for line in lines:\n",
        "            text_a = line\n",
        "            label = '0'\n",
        "            examples.append(\n",
        "              run_classifier.InputExample(guid=guid, text_a=text_a, text_b=None, label=label))\n",
        "    return examples\n",
        "\n",
        "# Model Hyper Parameters\n",
        "TRAIN_BATCH_SIZE = 2\n",
        "EVAL_BATCH_SIZE = 2\n",
        "LEARNING_RATE =0.7\n",
        "NUM_TRAIN_EPOCHS = 1\n",
        "WARMUP_PROPORTION = 1\n",
        "MAX_SEQ_LENGTH = 10\n",
        "# Model configs\n",
        "SAVE_CHECKPOINTS_STEPS = 0 #if you wish to finetune a model on a larger dataset, use larger interval\n",
        "# each checpoint weights about 1,5gb\n",
        "ITERATIONS_PER_LOOP = 1\n",
        "NUM_TPU_CORES = 8\n",
        "VOCAB_FILE = os.path.join(BERT_PRETRAINED_DIR, 'vocab.txt')\n",
        "CONFIG_FILE = os.path.join(BERT_PRETRAINED_DIR, 'bert_config.json')\n",
        "INIT_CHECKPOINT = os.path.join(BERT_PRETRAINED_DIR, 'bert_model.ckpt')\n",
        "DO_LOWER_CASE = BERT_MODEL.startswith('uncased')\n",
        "\n",
        "label_list = [str(num) for num in range(8)]\n",
        "tokenizer = tokenization.FullTokenizer(vocab_file=VOCAB_FILE, do_lower_case=DO_LOWER_CASE)\n",
        "train_examples = create_examples(X_train, 'train', labels=y_train)\n",
        "\n",
        "tpu_cluster_resolver = None #Since training will happen on GPU, we won't need a cluster resolver\n",
        "#TPUEstimator also supports training on CPU and GPU. You don't need to define a separate tf.estimator.Estimator.\n",
        "run_config = tf.contrib.tpu.RunConfig(\n",
        "    cluster=tpu_cluster_resolver,\n",
        "    model_dir=OUTPUT_DIR,\n",
        "    save_checkpoints_steps=SAVE_CHECKPOINTS_STEPS,\n",
        "    tpu_config=tf.contrib.tpu.TPUConfig(\n",
        "        iterations_per_loop=ITERATIONS_PER_LOOP,\n",
        "        num_shards=NUM_TPU_CORES,\n",
        "        per_host_input_for_training=tf.contrib.tpu.InputPipelineConfig.PER_HOST_V2))\n",
        "\n",
        "num_train_steps = int(\n",
        "    len(train_examples) / TRAIN_BATCH_SIZE * NUM_TRAIN_EPOCHS)\n",
        "num_warmup_steps = int(num_train_steps * WARMUP_PROPORTION)\n",
        "\n",
        "model_fn = run_classifier.model_fn_builder(\n",
        "    bert_config=modeling.BertConfig.from_json_file(CONFIG_FILE),\n",
        "    num_labels=len(label_list),\n",
        "    init_checkpoint=INIT_CHECKPOINT,\n",
        "    learning_rate=LEARNING_RATE,\n",
        "    num_train_steps=num_train_steps,\n",
        "    num_warmup_steps=num_warmup_steps,\n",
        "    use_tpu=False, #If False training will fall on CPU or GPU, depending on what is available\n",
        "    use_one_hot_embeddings=True)\n",
        "\n",
        "estimator = tf.contrib.tpu.TPUEstimator(\n",
        "    use_tpu=False, #If False training will fall on CPU or GPU, depending on what is available\n",
        "    model_fn=model_fn,\n",
        "    config=run_config,\n",
        "    train_batch_size=TRAIN_BATCH_SIZE,\n",
        "    eval_batch_size=EVAL_BATCH_SIZE)\n"
      ],
      "metadata": {
        "colab": {
          "base_uri": "https://localhost:8080/"
        },
        "id": "pmo8zHOzT9ur",
        "outputId": "769f0464-7322-4ad8-81f2-70a715a514d4"
      },
      "execution_count": null,
      "outputs": [
        {
          "output_type": "stream",
          "name": "stderr",
          "text": [
            "WARNING:tensorflow:From /content/tokenization.py:125: The name tf.gfile.GFile is deprecated. Please use tf.io.gfile.GFile instead.\n",
            "\n",
            "WARNING:tensorflow:\n",
            "The TensorFlow contrib module will not be included in TensorFlow 2.0.\n",
            "For more information, please see:\n",
            "  * https://github.com/tensorflow/community/blob/master/rfcs/20180907-contrib-sunset.md\n",
            "  * https://github.com/tensorflow/addons\n",
            "  * https://github.com/tensorflow/io (for I/O related ops)\n",
            "If you depend on functionality not listed there, please file an issue.\n",
            "\n",
            "WARNING:tensorflow:Estimator's model_fn (<function model_fn_builder.<locals>.model_fn at 0x7f58f7a22dd0>) includes params argument, but params are not passed to Estimator.\n",
            "WARNING:tensorflow:eval_on_tpu ignored because use_tpu is False.\n"
          ]
        }
      ]
    },
    {
      "cell_type": "code",
      "source": [
        "import datetime"
      ],
      "metadata": {
        "id": "xsYVYy0sUCWi"
      },
      "execution_count": null,
      "outputs": []
    },
    {
      "cell_type": "code",
      "source": [
        "print('Please wait...')\n",
        "train_features = run_classifier.convert_examples_to_features(\n",
        "    train_examples, label_list, MAX_SEQ_LENGTH, tokenizer)\n",
        "print('>> Started training at {} '.format(datetime.datetime.now()))\n",
        "print('  Num examples = {}'.format(len(train_examples)))\n",
        "print('  Batch size = {}'.format(TRAIN_BATCH_SIZE))\n",
        "tf.logging.info(\"  Num steps = %d\", num_train_steps)\n",
        "train_input_fn = run_classifier.input_fn_builder(\n",
        "    features=train_features,\n",
        "    seq_length=MAX_SEQ_LENGTH,\n",
        "    is_training=True,\n",
        "    drop_remainder=True)\n",
        "estimator.train(input_fn=train_input_fn, max_steps=num_train_steps)\n",
        "print('>> Finished training at {}'.format(datetime.datetime.now()))"
      ],
      "metadata": {
        "colab": {
          "base_uri": "https://localhost:8080/"
        },
        "id": "gVX-KJ7IUGXK",
        "outputId": "a6ea48d7-04bb-48a8-d2fb-4ddcd002ab70"
      },
      "execution_count": null,
      "outputs": [
        {
          "output_type": "stream",
          "name": "stderr",
          "text": [
            "WARNING:tensorflow:From /content/run_classifier.py:774: The name tf.logging.info is deprecated. Please use tf.compat.v1.logging.info instead.\n",
            "\n",
            "WARNING:tensorflow:From /usr/local/lib/python3.7/dist-packages/tensorflow_core/python/ops/resource_variable_ops.py:1630: calling BaseResourceVariable.__init__ (from tensorflow.python.ops.resource_variable_ops) with constraint is deprecated and will be removed in a future version.\n",
            "Instructions for updating:\n",
            "If using Keras pass *_constraint arguments to layers.\n",
            "WARNING:tensorflow:From /usr/local/lib/python3.7/dist-packages/tensorflow_core/python/training/training_util.py:236: Variable.initialized_value (from tensorflow.python.ops.variables) is deprecated and will be removed in a future version.\n",
            "Instructions for updating:\n",
            "Use Variable.read_value. Variables in 2.X are initialized automatically both in eager and graph (inside tf.defun) contexts.\n",
            "WARNING:tensorflow:From /content/modeling.py:171: The name tf.variable_scope is deprecated. Please use tf.compat.v1.variable_scope instead.\n",
            "\n",
            "WARNING:tensorflow:From /content/modeling.py:409: The name tf.get_variable is deprecated. Please use tf.compat.v1.get_variable instead.\n",
            "\n"
          ]
        },
        {
          "output_type": "stream",
          "name": "stdout",
          "text": [
            "Please wait...\n",
            ">> Started training at 2022-11-27 13:57:17.445277 \n",
            "  Num examples = 89\n",
            "  Batch size = 2\n"
          ]
        },
        {
          "output_type": "stream",
          "name": "stderr",
          "text": [
            "WARNING:tensorflow:From /content/modeling.py:490: The name tf.assert_less_equal is deprecated. Please use tf.compat.v1.assert_less_equal instead.\n",
            "\n",
            "WARNING:tensorflow:From /content/modeling.py:358: calling dropout (from tensorflow.python.ops.nn_ops) with keep_prob is deprecated and will be removed in a future version.\n",
            "Instructions for updating:\n",
            "Please use `rate` instead of `keep_prob`. Rate should be set to `rate = 1 - keep_prob`.\n",
            "WARNING:tensorflow:From /content/modeling.py:671: dense (from tensorflow.python.layers.core) is deprecated and will be removed in a future version.\n",
            "Instructions for updating:\n",
            "Use keras.layers.Dense instead.\n",
            "WARNING:tensorflow:From /usr/local/lib/python3.7/dist-packages/tensorflow_core/python/layers/core.py:187: Layer.apply (from tensorflow.python.keras.engine.base_layer) is deprecated and will be removed in a future version.\n",
            "Instructions for updating:\n",
            "Please use `layer.__call__` method instead.\n",
            "WARNING:tensorflow:From /content/run_classifier.py:647: The name tf.trainable_variables is deprecated. Please use tf.compat.v1.trainable_variables instead.\n",
            "\n",
            "WARNING:tensorflow:From /content/run_classifier.py:661: The name tf.train.init_from_checkpoint is deprecated. Please use tf.compat.v1.train.init_from_checkpoint instead.\n",
            "\n",
            "WARNING:tensorflow:From /content/optimization.py:27: The name tf.train.get_or_create_global_step is deprecated. Please use tf.compat.v1.train.get_or_create_global_step instead.\n",
            "\n",
            "WARNING:tensorflow:From /content/optimization.py:32: The name tf.train.polynomial_decay is deprecated. Please use tf.compat.v1.train.polynomial_decay instead.\n",
            "\n",
            "WARNING:tensorflow:From /usr/local/lib/python3.7/dist-packages/tensorflow_core/python/ops/math_grad.py:1375: where (from tensorflow.python.ops.array_ops) is deprecated and will be removed in a future version.\n",
            "Instructions for updating:\n",
            "Use tf.where in 2.0, which has the same broadcast rule as np.where\n"
          ]
        },
        {
          "output_type": "stream",
          "name": "stdout",
          "text": [
            ">> Finished training at 2022-11-27 13:59:32.620849\n"
          ]
        }
      ]
    },
    {
      "cell_type": "code",
      "source": [
        "def input_fn_builder(features, seq_length, is_training, drop_remainder):\n",
        "  all_input_ids = []\n",
        "  all_input_mask = []\n",
        "  all_segment_ids = []\n",
        "  all_label_ids = []\n",
        "\n",
        "  for feature in features:\n",
        "    all_input_ids.append(feature.input_ids)\n",
        "    all_input_mask.append(feature.input_mask)\n",
        "    all_segment_ids.append(feature.segment_ids)\n",
        "    all_label_ids.append(feature.label_id)\n",
        "  def input_fn(params):\n",
        "    print(params)\n",
        "    batch_size = 500\n",
        "    num_examples = len(features)\n",
        "    d = tf.data.Dataset.from_tensor_slices({\n",
        "        \"input_ids\":\n",
        "            tf.constant(\n",
        "                all_input_ids, shape=[num_examples, seq_length],\n",
        "                dtype=tf.int32),\n",
        "        \"input_mask\":\n",
        "            tf.constant(\n",
        "                all_input_mask,\n",
        "                shape=[num_examples, seq_length],\n",
        "                dtype=tf.int32),\n",
        "        \"segment_ids\":\n",
        "            tf.constant(\n",
        "                all_segment_ids,\n",
        "                shape=[num_examples, seq_length],\n",
        "                dtype=tf.int32),\n",
        "        \"label_ids\":\n",
        "            tf.constant(all_label_ids, shape=[num_examples], dtype=tf.int32),\n",
        "    })\n",
        "    if is_training:\n",
        "      d = d.repeat()\n",
        "      d = d.shuffle(buffer_size=100)\n",
        "    d = d.batch(batch_size=batch_size, drop_remainder=drop_remainder)\n",
        "    return d\n",
        "  return input_fn"
      ],
      "metadata": {
        "id": "hv1Leh3rUrcI"
      },
      "execution_count": null,
      "outputs": []
    },
    {
      "cell_type": "code",
      "source": [
        "pip install numpy==1.19.5"
      ],
      "metadata": {
        "colab": {
          "base_uri": "https://localhost:8080/"
        },
        "id": "UhGPW-dFU0tw",
        "outputId": "c3560b70-8a1d-4706-efb1-afc0e631cce9"
      },
      "execution_count": null,
      "outputs": [
        {
          "output_type": "stream",
          "name": "stdout",
          "text": [
            "Looking in indexes: https://pypi.org/simple, https://us-python.pkg.dev/colab-wheels/public/simple/\n",
            "Requirement already satisfied: numpy==1.19.5 in /usr/local/lib/python3.7/dist-packages (1.19.5)\n"
          ]
        }
      ]
    },
    {
      "cell_type": "code",
      "source": [
        "predict_examples = create_examples(X_test, 'test')\n",
        "predict_features = run_classifier.convert_examples_to_features(\n",
        "    predict_examples, label_list, MAX_SEQ_LENGTH, tokenizer)\n",
        "predict_input_fn = input_fn_builder(\n",
        "    features=predict_features,\n",
        "    seq_length=MAX_SEQ_LENGTH,\n",
        "    is_training=False,\n",
        "    drop_remainder=False)\n",
        "result = estimator.predict(input_fn=predict_input_fn)\n",
        "preds = []\n",
        "for prediction in result:\n",
        "      preds.append(np.argmax(prediction['probabilities']))"
      ],
      "metadata": {
        "colab": {
          "base_uri": "https://localhost:8080/"
        },
        "id": "bph2gzvQUwd9",
        "outputId": "43368a9d-9aa7-48c9-d526-03da09021579"
      },
      "execution_count": null,
      "outputs": [
        {
          "output_type": "stream",
          "name": "stdout",
          "text": [
            "{}\n"
          ]
        }
      ]
    },
    {
      "cell_type": "code",
      "source": [
        "from sklearn.metrics import classification_report"
      ],
      "metadata": {
        "id": "Unh0mqdUXS4_"
      },
      "execution_count": null,
      "outputs": []
    },
    {
      "cell_type": "code",
      "source": [
        "from sklearn.metrics import accuracy_score\n",
        "print(\"Accuracy of BERT is:\",accuracy_score(y_test,preds))\n",
        "print(classification_report(y_test,preds))"
      ],
      "metadata": {
        "colab": {
          "base_uri": "https://localhost:8080/"
        },
        "id": "gAUBHIhFVhqB",
        "outputId": "28614ead-b8d1-4107-bca1-63483767a2de"
      },
      "execution_count": null,
      "outputs": [
        {
          "output_type": "stream",
          "name": "stdout",
          "text": [
            "Accuracy of BERT is: 0.4\n",
            "              precision    recall  f1-score   support\n",
            "\n",
            "           1       0.00      0.00      0.00         1\n",
            "           3       0.00      0.00      0.00         3\n",
            "           4       0.00      0.00      0.00         2\n",
            "           5       0.44      1.00      0.62         4\n",
            "\n",
            "    accuracy                           0.40        10\n",
            "   macro avg       0.11      0.25      0.15        10\n",
            "weighted avg       0.18      0.40      0.25        10\n",
            "\n"
          ]
        },
        {
          "output_type": "stream",
          "name": "stderr",
          "text": [
            "/usr/local/lib/python3.7/dist-packages/sklearn/metrics/_classification.py:1318: UndefinedMetricWarning: Precision and F-score are ill-defined and being set to 0.0 in labels with no predicted samples. Use `zero_division` parameter to control this behavior.\n",
            "  _warn_prf(average, modifier, msg_start, len(result))\n",
            "/usr/local/lib/python3.7/dist-packages/sklearn/metrics/_classification.py:1318: UndefinedMetricWarning: Precision and F-score are ill-defined and being set to 0.0 in labels with no predicted samples. Use `zero_division` parameter to control this behavior.\n",
            "  _warn_prf(average, modifier, msg_start, len(result))\n",
            "/usr/local/lib/python3.7/dist-packages/sklearn/metrics/_classification.py:1318: UndefinedMetricWarning: Precision and F-score are ill-defined and being set to 0.0 in labels with no predicted samples. Use `zero_division` parameter to control this behavior.\n",
            "  _warn_prf(average, modifier, msg_start, len(result))\n"
          ]
        }
      ]
    },
    {
      "cell_type": "code",
      "source": [
        "l=['You used several methods to separate and identify the substances in mock rocks. How did you separate the salt from the water? [SEP] Let the water evaporate and the salt is left behind.']\n",
        "def result(l):\n",
        "  predict_examples = create_examples(l, 'test')\n",
        "  predict_features = run_classifier.convert_examples_to_features(\n",
        "      predict_examples, label_list, MAX_SEQ_LENGTH, tokenizer)\n",
        "  predict_input_fn = input_fn_builder(\n",
        "      features=predict_features,\n",
        "      seq_length=MAX_SEQ_LENGTH,\n",
        "      is_training=False,\n",
        "      drop_remainder=False)\n",
        "  result = estimator.predict(input_fn=predict_input_fn)\n",
        "  preds = []\n",
        "  for prediction in result:\n",
        "        preds.append(np.argmax(prediction['probabilities']))\n",
        "  return preds"
      ],
      "metadata": {
        "id": "w8At1aQvY5V7"
      },
      "execution_count": null,
      "outputs": []
    },
    {
      "cell_type": "markdown",
      "source": [],
      "metadata": {
        "id": "YrwHITR7ih0k"
      }
    },
    {
      "cell_type": "code",
      "source": [
        "def Question():\n",
        "  df1=pd.read_csv(\"Dataset2.csv\")\n",
        "  import random\n",
        "  i=random.randrange(0,100)\n",
        "  print(\"Question=\",df1['questionText'][i])\n",
        "  print(\"Refernce Answer=\",df1['referenceAnswer'][i])\n",
        "  Answer=input('Enter The Answer=')\n",
        "  l=[]\n",
        "  s=df1['questionText'][i] +\" [SEP] \"+ Answer\n",
        "  l.append(s)\n",
        "  r=result(l)\n",
        "  return r\n"
      ],
      "metadata": {
        "id": "w7cZG_2kZHD3"
      },
      "execution_count": null,
      "outputs": []
    },
    {
      "cell_type": "code",
      "source": [
        "r= Question()\n",
        "print(\"Your Score is \",r)"
      ],
      "metadata": {
        "colab": {
          "base_uri": "https://localhost:8080/"
        },
        "id": "Iana0BfzZKf_",
        "outputId": "29097670-3484-4da5-f3cf-8bb98efc9ef0"
      },
      "execution_count": null,
      "outputs": [
        {
          "output_type": "stream",
          "name": "stdout",
          "text": [
            "Question= You used several methods to separate and identify the substances in mock rocks. How did you separate the salt from the water?\n",
            "Refernce Answer= The water was evaporated, leaving the salt.\n",
            "Enter The Answer=Evaporation\n",
            "{}\n",
            "Your Score is  [4]\n"
          ]
        }
      ]
    },
    {
      "cell_type": "code",
      "source": [
        "r= Question()\n",
        "print(\"Your Score is \",r)"
      ],
      "metadata": {
        "colab": {
          "base_uri": "https://localhost:8080/"
        },
        "id": "nbIuhBKsiP6Q",
        "outputId": "2b2de4f7-29ce-47d3-be30-4375e79b453a"
      },
      "execution_count": null,
      "outputs": [
        {
          "output_type": "stream",
          "name": "stdout",
          "text": [
            "Question= Ms. Teridann, a geologist, made a chart showing the scratch-test data for 3 minerals (Mineral X, Mineral Y, and Mineral Z). She wrote \"yes\" if the tool scratched the mineral and wrote \"no\" if it did not scratch it. Topaz is a mineral that cannot be scratched by a fingernail, a penny, or a paperclip. How hard is topaz compared to minerals X, Y, and Z? Explain how you know.\n",
            "Refernce Answer= Topaz would be the hardest of the 4 minerals because none of the tools could scratch topaz and at least one tool could scratch each of the other minerals.\n",
            "Enter The Answer=yes\n",
            "{}\n",
            "Your Score is  [7]\n"
          ]
        }
      ]
    },
    {
      "cell_type": "code",
      "source": [
        "Question()\n",
        "print(\"Your Score is \",r)\n",
        "edit=input('Do you Want to edit the Score(Y/N)=')\n",
        "if edit=='Y' or edit=='y':\n",
        "  r=input('Enter the new Score=')\n",
        "\n",
        "print(\"Your Score is \",r)"
      ],
      "metadata": {
        "colab": {
          "base_uri": "https://localhost:8080/"
        },
        "id": "iSy9Xf3-awXu",
        "outputId": "faa8f8c6-e2ad-4efa-901e-641a48349957"
      },
      "execution_count": null,
      "outputs": [
        {
          "output_type": "stream",
          "name": "stdout",
          "text": [
            "Question= You used several methods to separate and identify the substances in mock rocks. How did you know the crystals were salt?\n",
            "Refernce Answer= The crystals were square with Xs on the surface.\n",
            "Enter The Answer=yes\n",
            "{}\n",
            "Your Score is  [4]\n",
            "Do you Want to edit the Score(Y/N)=yes\n",
            "Your Score is  [4]\n"
          ]
        }
      ]
    }
  ]
}